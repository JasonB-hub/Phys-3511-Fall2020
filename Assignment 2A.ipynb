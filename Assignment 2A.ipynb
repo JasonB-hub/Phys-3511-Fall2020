{
 "cells": [
  {
   "cell_type": "code",
   "execution_count": 1,
   "metadata": {},
   "outputs": [],
   "source": [
    "import numpy as np\n",
    "import math\n",
    "import scipy \n",
    "import matplotlib.pyplot as plt\n",
    "from scipy import integrate"
   ]
  },
  {
   "cell_type": "code",
   "execution_count": 2,
   "metadata": {},
   "outputs": [],
   "source": [
    "#define midpoint rule\n",
    "def midpoint(f,a,b,n):\n",
    "    dx = (b-a)/float(n)\n",
    "    area = dx*math.fsum(f(a + (i+0.5)*dx) for i in range (0,n))\n",
    "    return area"
   ]
  },
  {
   "cell_type": "code",
   "execution_count": 3,
   "metadata": {},
   "outputs": [],
   "source": [
    "#define trapazoidal rule\n",
    "def trapezoid(f,a,b,n):\n",
    "    dx = (b-a)/float(n)\n",
    "    area = dx*math.fsum(0.5*(f(a + i*dx) + f(a + (i+1)*dx)) for i in range (0,n))\n",
    "    return area"
   ]
  },
  {
   "cell_type": "code",
   "execution_count": 4,
   "metadata": {},
   "outputs": [],
   "source": [
    "#define simpson's rule\n",
    "def simpsons(f,a,b,n):\n",
    "    dx = float((b-a)/(n))\n",
    "    odd = 0\n",
    "    even = 0\n",
    "    for i in range (1,n,2):\n",
    "        odd += 4*f(a + i*dx) \n",
    "    for k in range (2,n-1,2):\n",
    "        even += 2*f(a + k*dx) \n",
    "    area = (dx/3.0)*(f(a) + even + odd + f(b))\n",
    "    return area"
   ]
  },
  {
   "cell_type": "code",
   "execution_count": 5,
   "metadata": {},
   "outputs": [],
   "source": [
    "#exact solution to the integral\n",
    "exact_solution = 0.35355"
   ]
  },
  {
   "cell_type": "code",
   "execution_count": 6,
   "metadata": {},
   "outputs": [
    {
     "name": "stdout",
     "output_type": "stream",
     "text": [
      "Midpoint: 0.3538599754585315\n"
     ]
    }
   ],
   "source": [
    "#solve the integral using your integration functions\n",
    "def midpoint(f,a,b,n):\n",
    "    dx = (b-a)/float(n)\n",
    "    area = dx*math.fsum(f(a + (i+0.5)*dx) for i in range (0,n))\n",
    "    return area\n",
    "a = 0\n",
    "b = 2 \n",
    "n = 6\n",
    "f = lambda x : (2/(((2**2) + (x**2))**(3/2)))\n",
    "midpoint = midpoint(f,a,b,n)\n",
    "print(\"Midpoint:\", midpoint)"
   ]
  },
  {
   "cell_type": "code",
   "execution_count": 7,
   "metadata": {},
   "outputs": [
    {
     "name": "stdout",
     "output_type": "stream",
     "text": [
      "Trapezoid: 0.35293994641413146\n"
     ]
    }
   ],
   "source": [
    "def trapezoid(f,a,b,n):\n",
    "    dx = (b-a)/float(n)\n",
    "    area = dx*math.fsum(0.5*(f(a + i*dx) + f(a + (i+1)*dx)) for i in range (0,n))\n",
    "    return area\n",
    "a = 0\n",
    "b = 2 \n",
    "n = 6\n",
    "f = lambda x : (2/(((2**2) + (x**2))**(3/2)))\n",
    "trapezoid = trapezoid(f,a,b,n)\n",
    "print(\"Trapezoid:\", trapezoid)"
   ]
  },
  {
   "cell_type": "code",
   "execution_count": 8,
   "metadata": {},
   "outputs": [
    {
     "name": "stdout",
     "output_type": "stream",
     "text": [
      "Simpsons: 0.3535517906244493\n"
     ]
    }
   ],
   "source": [
    "def simpsons(f,a,b,n):\n",
    "    dx = float((b-a)/(n))\n",
    "    odd = 0\n",
    "    even = 0\n",
    "    for i in range (1,n,2):\n",
    "        odd += 4*f(a + i*dx) \n",
    "    for k in range (2,n-1,2):\n",
    "        even += 2*f(a + k*dx) \n",
    "    area = (dx/3.0)*(f(a) + even + odd + f(b))\n",
    "    return area\n",
    "a = 0\n",
    "b = 2 \n",
    "n = 6\n",
    "f = lambda x : (2/((4 + (x**2))**(3/2)))\n",
    "simpsons = simpsons(f,a,b,n)\n",
    "print(\"Simpsons:\",simpsons)"
   ]
  },
  {
   "cell_type": "code",
   "execution_count": 9,
   "metadata": {},
   "outputs": [
    {
     "name": "stdout",
     "output_type": "stream",
     "text": [
      "Scipy Trapz Integration: 0.35293994641413146\n"
     ]
    }
   ],
   "source": [
    "#scipy integration\n",
    "#Trapz\n",
    "from scipy import integrate\n",
    "x_scipy = np.linspace(a,b,n+1)\n",
    "y_scipy = (2/((4 + (x_scipy**2))**(3/2)))\n",
    "a = 0\n",
    "b = 2\n",
    "n = 6\n",
    "dx = float((b-a)/n)\n",
    "sci_trap = integrate.trapz(y_scipy,x_scipy,dx)\n",
    "print(\"Scipy Trapz Integration:\", sci_trap)"
   ]
  },
  {
   "cell_type": "code",
   "execution_count": 10,
   "metadata": {},
   "outputs": [
    {
     "name": "stdout",
     "output_type": "stream",
     "text": [
      "Scipy Simps Integration: 0.35355179062444925\n"
     ]
    }
   ],
   "source": [
    "#Simps\n",
    "x_scipy = np.linspace(a,b,n+1) \n",
    "y_scipy = (2/((4 + (x_scipy**2))**(3/2)))\n",
    "a = 0\n",
    "b = 2\n",
    "sci_simp = integrate.simps(y_scipy,x_scipy)\n",
    "print(\"Scipy Simps Integration:\", sci_simp)"
   ]
  },
  {
   "cell_type": "code",
   "execution_count": 11,
   "metadata": {},
   "outputs": [
    {
     "name": "stdout",
     "output_type": "stream",
     "text": [
      "Midpoint: 0.3538599754585315\n",
      "Trapezoid: 0.35293994641413146\n",
      "Simpsons: 0.3535517906244493\n",
      "Scipy Trapz Integration: 0.35293994641413146\n",
      "Scipy Simps Integration: 0.35355179062444925\n"
     ]
    }
   ],
   "source": [
    "#print the numerical values\n",
    "print(\"Midpoint:\", midpoint)\n",
    "print(\"Trapezoid:\", trapezoid)\n",
    "print(\"Simpsons:\",simpsons)\n",
    "print(\"Scipy Trapz Integration:\", sci_trap)\n",
    "print(\"Scipy Simps Integration:\", sci_simp)\n",
    "#The trapezoid and Scipy trapezoid values are identical to each other\n",
    "#The Simpsons values obtained are very close as the Scipy value is accurate to more decimal places"
   ]
  },
  {
   "cell_type": "code",
   "execution_count": 12,
   "metadata": {},
   "outputs": [
    {
     "name": "stdout",
     "output_type": "stream",
     "text": [
      "Simpsons Comparison: 5.064699333409967e-06\n",
      "Midpoint Comparison: 0.0008767514030024281\n",
      "Trapezoid Comparison: -0.0017255086575265724\n"
     ]
    }
   ],
   "source": [
    "#numerical comparisons\n",
    "comparison_simpsons = ((simpsons-exact_solution)/exact_solution)\n",
    "print(\"Simpsons Comparison:\",comparison_simpsons)\n",
    "comparison_midpoint =((midpoint-exact_solution)/exact_solution)\n",
    "print(\"Midpoint Comparison:\",comparison_midpoint)\n",
    "comparison_trapezoid = ((trapezoid-exact_solution)/exact_solution)\n",
    "print(\"Trapezoid Comparison:\",comparison_trapezoid)"
   ]
  },
  {
   "cell_type": "code",
   "execution_count": 13,
   "metadata": {},
   "outputs": [
    {
     "data": {
      "image/png": "[encoded data removed]",
      "text/plain": [
       "<Figure size 432x288 with 1 Axes>"
      ]
     },
     "metadata": {
      "needs_background": "light"
     },
     "output_type": "display_data"
    }
   ],
   "source": [
    "#Plot\n",
    "x_axis = [\"Midpoint Percent Error\",\"Trapezoid Percent Error\",\"Simpsons Percent Error\"]\n",
    "y_axis = [(100*comparison_midpoint),(100*comparison_trapezoid),(100*comparison_simpsons)]\n",
    "import matplotlib.pyplot as plt\n",
    "plt.scatter(x_axis,y_axis)\n",
    "plt.axhline(y=0,color='r')\n",
    "plt.xlabel(\"Integration Method\")\n",
    "plt.ylabel(\"Percent error compared to exact value\")\n",
    "plt.show()\n",
    "#The Simpsons method provides the best approximation to the exact solution"
   ]
  },
  {
   "cell_type": "code",
   "execution_count": 14,
   "metadata": {},
   "outputs": [
    {
     "name": "stdout",
     "output_type": "stream",
     "text": [
      "(1.7724538509055159, 1.4202636780944923e-08)\n"
     ]
    }
   ],
   "source": [
    "#Solve integral above\n",
    "f7 = lambda x : np.exp(-x**2)\n",
    "from scipy import integrate\n",
    "x0 = -np.inf\n",
    "xn = np.inf\n",
    "sci_7 = integrate.quad(f7,x0,xn)\n",
    "print(sci_7)"
   ]
  },
  {
   "cell_type": "code",
   "execution_count": 15,
   "metadata": {},
   "outputs": [
    {
     "name": "stdout",
     "output_type": "stream",
     "text": [
      "3.1415926535897927\n"
     ]
    }
   ],
   "source": [
    "approx_quad_squared = (sci_7[0])**2\n",
    "print(approx_quad_squared)\n",
    "#The value obtained is the value of Pi"
   ]
  }
 ],
 "metadata": {
  "kernelspec": {
   "display_name": "Python 3",
   "language": "python",
   "name": "python3"
  },
  "language_info": {
   "codemirror_mode": {
    "name": "ipython",
    "version": 3
   },
   "file_extension": ".py",
   "mimetype": "text/x-python",
   "name": "python",
   "nbconvert_exporter": "python",
   "pygments_lexer": "ipython3",
   "version": "3.8.3"
  }
 },
 "nbformat": 4,
 "nbformat_minor": 4
}
