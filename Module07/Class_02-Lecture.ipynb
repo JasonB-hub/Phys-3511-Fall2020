{
 "cells": [
  {
   "cell_type": "markdown",
   "metadata": {},
   "source": [
    "# Goals\n",
    "* What are **class variables**\n",
    "\n",
    "# Class Variables\n",
    "\n",
    "* Variables shared amongst all instances of a class\n",
    "* Variable is the same for each instance of the class\n",
    "\n",
    "## The Beta Method\n",
    "\n",
    "Let's add a new method to our class which calculates the quantity $\\beta$, which tells us how close to the speed of light a particle is traveling. It is defined as the particles speed, $v$, over the speed of light, $c$:\n",
    "\n",
    "$\\beta = \\frac{v}{c}$\n",
    "\n",
    "In this case it would be nice to have the same value of $c$ shared across all particle.\n",
    "We can impliment the method *beta* and see how to use this without setting a class variable first"
   ]
  },
  {
   "cell_type": "code",
   "execution_count": 14,
   "metadata": {},
   "outputs": [],
   "source": [
    "class Particle:\n",
    "    def __init__(self, name, mass, mass_unit, charge, vel):\n",
    "        self.name = name\n",
    "        self.mass = mass\n",
    "        self.mass_unit = mass_unit\n",
    "        self.vel = vel #added velocity attribute\n",
    "        self.mass_list = '{} {}'.format(mass, mass_unit)\n",
    "    \n",
    "    def mass_square(self):    \n",
    "        return '{} {}^2'.format(self.mass**2, self.mass_unit) \n",
    "\n",
    "   "
   ]
  },
  {
   "cell_type": "markdown",
   "metadata": {},
   "source": [
    "The above works fine, however there are a couple things that can be done better.\n",
    "\n",
    "1) What is we wanted to see the value used to the speed of light? \n",
    "* It would be nice have a method return that value.\n",
    "\n",
    "2) What if we wanted to update our speed of light value? \n",
    "* If we wanted to make the value more percise\n",
    "* As our code get more complex (and longer) who knows where in the code we use the speed of light. Going though 1000's of line of code and changing hard coded values is a pain and prone to errors! \n",
    "\n",
    "### We can do better by implimenting the speed of light as a class variable  "
   ]
  },
  {
   "cell_type": "code",
   "execution_count": 15,
   "metadata": {},
   "outputs": [],
   "source": [
    "#class Particle:\n",
    "    #define class variables at top of the class\n",
    "    \n",
    "    \n",
    "    #def __init__(self, name, mass, mass_unit, charge, vel):\n",
    "    #    self.name = name\n",
    "    #    self.mass = mass\n",
    "    #    self.mass_unit = mass_unit\n",
    "    #    self.vel = vel #added velocity attribute\n",
    "    #    self.mass_list = '{} {}'.format(mass, mass_unit)\n",
    "    \n",
    "    #def mass_square(self):    \n",
    "    #    return '{} {}^2'.format(self.mass**2, self.mass_unit) \n",
    "\n",
    "    #def get_beta(self):\n",
    "    #    return self.vel/c # try just using c. What happens? A 'name' error!\n",
    "    \n"
   ]
  },
  {
   "cell_type": "markdown",
   "metadata": {},
   "source": [
    "Class variables **must** be \n",
    "1) accessed through the class \n",
    "\n",
    " > Particle.c\n",
    "\n",
    "2) or through an instance of the class\n",
    "\n",
    " > self.c \n"
   ]
  },
  {
   "cell_type": "code",
   "execution_count": 16,
   "metadata": {},
   "outputs": [],
   "source": [
    "#class Particle:\n",
    "#    #define class variables at top of the class\n",
    "#    c = 3.0e8 #speed of light\n",
    "    \n",
    "#    def __init__(self, name, mass, mass_unit, charge, vel):\n",
    "#        self.name = name\n",
    "#        self.mass = mass\n",
    "#        self.mass_unit = mass_unit\n",
    "#        self.vel = vel #added velocity attribute\n",
    "#        self.mass_list = '{} {}'.format(mass, mass_unit)\n",
    "    \n",
    "#    def mass_square(self):    \n",
    "#        return '{} {}^2'.format(self.mass**2, self.mass_unit) \n",
    "\n"
   ]
  },
  {
   "cell_type": "markdown",
   "metadata": {},
   "source": [
    "Why can we assess class variable through the instance?\n",
    "Two ways to access the class variable:"
   ]
  },
  {
   "cell_type": "code",
   "execution_count": 4,
   "metadata": {},
   "outputs": [
    {
     "name": "stdout",
     "output_type": "stream",
     "text": [
      "380000000.0\n",
      "380000000.0\n"
     ]
    }
   ],
   "source": [
    "print(par_2.c)   \n",
    "print(Particle.c)   "
   ]
  },
  {
   "cell_type": "markdown",
   "metadata": {},
   "source": [
    "Trying to access an attribute on an instance:\n",
    "1) First check if the instance contains that attribute\n",
    "2) If it doesn't then check the class or any class that it inherits from does\n",
    "\n",
    "Our instances (par_2.c) does not actually have the c attribute, but is accessing the class's (Particle) attribute (the class variable c) \n",
    "\n",
    "For a clearer idea of what is going on, let's print the namespace of one of our instances"
   ]
  },
  {
   "cell_type": "code",
   "execution_count": null,
   "metadata": {},
   "outputs": [],
   "source": []
  },
  {
   "cell_type": "code",
   "execution_count": null,
   "metadata": {},
   "outputs": [],
   "source": []
  },
  {
   "cell_type": "markdown",
   "metadata": {},
   "source": [
    "### We can easily modify our attribute by changing the variable in the class definition or on the fly! "
   ]
  },
  {
   "cell_type": "code",
   "execution_count": null,
   "metadata": {},
   "outputs": [],
   "source": []
  },
  {
   "cell_type": "markdown",
   "metadata": {},
   "source": [
    "What if we used the instance to change c, rather than using the class?"
   ]
  },
  {
   "cell_type": "code",
   "execution_count": null,
   "metadata": {},
   "outputs": [],
   "source": []
  },
  {
   "cell_type": "markdown",
   "metadata": {},
   "source": [
    "Why? Created c attribute in par_1"
   ]
  },
  {
   "cell_type": "code",
   "execution_count": null,
   "metadata": {},
   "outputs": [],
   "source": []
  },
  {
   "cell_type": "code",
   "execution_count": null,
   "metadata": {},
   "outputs": [],
   "source": []
  },
  {
   "cell_type": "markdown",
   "metadata": {},
   "source": [
    "So what does this mean for our get_beta method?\n",
    "\n",
    "1) \n",
    "> return self.val/Particle.c\n",
    "\n",
    "2) \n",
    "> return self.vel/self.c\n",
    "\n"
   ]
  },
  {
   "cell_type": "markdown",
   "metadata": {},
   "source": [
    "Using 1) or 2) we can get different results. "
   ]
  },
  {
   "cell_type": "code",
   "execution_count": null,
   "metadata": {},
   "outputs": [],
   "source": []
  },
  {
   "cell_type": "markdown",
   "metadata": {},
   "source": [
    "* 2) uses the instances attribute c to calculate $\\beta$ \n",
    "  * Ability to change the class variable for an individual instance\n",
    "  * Allows a sub class to override the class variable (e.g. $c$) if we want to. (more on this later)\n",
    "* 1) uses the class's attribute c to compute $\\beta$ "
   ]
  },
  {
   "cell_type": "markdown",
   "metadata": {},
   "source": [
    "# Another Class Variable Example\n",
    "\n",
    "Introduce a variable where we do not want to use *self*.\n",
    "Lets create a class variable that tracks the number of particles we have defined. \n",
    "\n",
    "* This quantity will incriment by one for each particle we create.\n",
    "* Place in init method -- runs first for each instance created"
   ]
  },
  {
   "cell_type": "code",
   "execution_count": 17,
   "metadata": {},
   "outputs": [],
   "source": [
    "#class Particle:\n",
    "#    #define class variables at top of the class\n",
    "#    c = 3.0e8 #speed of light\n",
    "    \n",
    "#    def __init__(self, name, mass, mass_unit, charge, vel):\n",
    "#        self.name = name\n",
    "#        self.mass = mass\n",
    "#        self.mass_unit = mass_unit\n",
    "#        self.vel = vel #added velocity attribute\n",
    "#        self.mass_list = '{} {}'.format(mass, mass_unit)\n",
    "    \n",
    "#    def mass_square(self):    \n",
    "#        return '{} {}^2'.format(self.mass**2, self.mass_unit) \n",
    "\n",
    "#    def get_beta(self):\n",
    "#        return self.vel/self.c # Also use Particle.c\n",
    "    "
   ]
  },
  {
   "cell_type": "code",
   "execution_count": null,
   "metadata": {},
   "outputs": [],
   "source": []
  },
  {
   "cell_type": "code",
   "execution_count": null,
   "metadata": {},
   "outputs": [],
   "source": []
  }
 ],
 "metadata": {
  "kernelspec": {
   "display_name": "Python 3",
   "language": "python",
   "name": "python3"
  },
  "language_info": {
   "codemirror_mode": {
    "name": "ipython",
    "version": 3
   },
   "file_extension": ".py",
   "mimetype": "text/x-python",
   "name": "python",
   "nbconvert_exporter": "python",
   "pygments_lexer": "ipython3",
   "version": "3.7.4"
  }
 },
 "nbformat": 4,
 "nbformat_minor": 4
}
