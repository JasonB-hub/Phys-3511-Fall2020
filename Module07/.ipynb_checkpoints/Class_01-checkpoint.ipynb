{
 "cells": [
  {
   "cell_type": "markdown",
   "metadata": {},
   "source": [
    "# Goals\n",
    "* How to create a simple class\n",
    "* The difference between a class and an instance of a class\n",
    "* Define class atributes and methods\n",
    "\n",
    "# Why Classes?\n",
    "\n",
    "* Used in a lot of modern languages (e.g. C++, Java,...)\n",
    "* Logically group data and functions\n",
    "* Build upon them\n",
    "* Do not need to redefine each time\n",
    "\n",
    "## Associated with classes are attributes and methods (data/functions)\n",
    "\n",
    "# Example: A particle class\n",
    "### We'll make a class Particle and for each particle define specific attributes and methods\n",
    "* name\n",
    "* mass\n",
    "* mass unit\n",
    "* charge\n",
    "* actions"
   ]
  },
  {
   "cell_type": "code",
   "execution_count": 42,
   "metadata": {},
   "outputs": [],
   "source": [
    "#for an empty class use pass\n",
    "class Particle:\n",
    "    pass"
   ]
  },
  {
   "cell_type": "markdown",
   "metadata": {},
   "source": [
    "## Class: \n",
    "Is a template for creating instances\n",
    "\n",
    "## Instance of a class: \n",
    "Each particle created from the Particle class is an instance (object) of that class.\n",
    "\n",
    "We can define unique instances of the Particle class. Note they have their own location in memory"
   ]
  },
  {
   "cell_type": "code",
   "execution_count": 23,
   "metadata": {},
   "outputs": [
    {
     "name": "stdout",
     "output_type": "stream",
     "text": [
      "<__main__.Particle object at 0x106764f50>\n",
      "<__main__.Particle object at 0x10675d950>\n"
     ]
    }
   ],
   "source": [
    "par_1 = Particle()\n",
    "par_2 = Particle()\n",
    "\n",
    "print(par_1)\n",
    "print(par_2)"
   ]
  },
  {
   "cell_type": "markdown",
   "metadata": {},
   "source": [
    "## Instance variables:\n",
    "Contain data that is unique to an instance"
   ]
  },
  {
   "cell_type": "code",
   "execution_count": 44,
   "metadata": {},
   "outputs": [
    {
     "name": "stdout",
     "output_type": "stream",
     "text": [
      "Electron\n",
      "Proton\n"
     ]
    }
   ],
   "source": [
    "#par_1 abd par_2 are instances of Particle class\n",
    "par_1.name = 'Electron'\n",
    "par_1.mass = 0.511\n",
    "par_1.mass_unit = 'MeV'\n",
    "par_1.charge = -1\n",
    "\n",
    "par_2.name = 'Proton'\n",
    "par_2.mass = 0.938\n",
    "par_2.mass_unit = 'GeV'\n",
    "par_2.charge = 1\n",
    "\n",
    "print(par_1.name)\n",
    "print(par_2.name)"
   ]
  },
  {
   "cell_type": "markdown",
   "metadata": {},
   "source": [
    "## Init Method\n",
    "\n",
    "Cool, but that is a lot of code we need for each particle. We can have the class do this automatically using the *init* method.\n",
    "\n",
    "*init* method is an **initialization** method for the class (e.g. a constructor). \n",
    "\n",
    "Methods created in a class recieve the instance as the first argument. Additional arguments can follow.\n",
    "By convention, the instance argument is called *self*"
   ]
  },
  {
   "cell_type": "code",
   "execution_count": 47,
   "metadata": {},
   "outputs": [],
   "source": [
    "class Particle:\n",
    "    def __init__(self, name, mass, mass_unit, charge):\n",
    "        #variables with self. are instance variables\n",
    "        self.name = name # same as par_1.name = name\n",
    "        self.mass = mass\n",
    "        self.mass_unit = mass_unit\n",
    "        self.mass_list = '{} {}'.format(mass, mass_unit)"
   ]
  },
  {
   "cell_type": "code",
   "execution_count": 50,
   "metadata": {},
   "outputs": [
    {
     "name": "stdout",
     "output_type": "stream",
     "text": [
      "Electron\n",
      "0.511 GeV\n"
     ]
    }
   ],
   "source": [
    "#init method will run automatically and par_1 is passed in as self and sets atributes\n",
    "par_1 = Particle('Electron', 0.511, 'MeV', -1) # instance is passed automatically, don't need to specify\n",
    "par_2 = Particle('Proton', 0.938, 'GeV', 1)\n",
    "\n",
    "print(par_1.name)\n",
    "print(par_1.mass_list)"
   ]
  },
  {
   "cell_type": "markdown",
   "metadata": {},
   "source": [
    "## Adding Actions\n",
    "Can define methods (functions) within the class"
   ]
  },
  {
   "cell_type": "code",
   "execution_count": 51,
   "metadata": {},
   "outputs": [],
   "source": [
    "class Particle:\n",
    "    def __init__(self, name, mass, mass_unit, charge):\n",
    "        self.name = name\n",
    "        self.mass = mass\n",
    "        self.mass_unit = mass_unit\n",
    "        self.mass_list = '{} {}'.format(mass, mass_unit)\n",
    "    \n",
    "    def mass_square(self):\n",
    "        return self.mass**2 "
   ]
  },
  {
   "cell_type": "code",
   "execution_count": 53,
   "metadata": {},
   "outputs": [
    {
     "name": "stdout",
     "output_type": "stream",
     "text": [
      "Electron\n",
      "0.511 GeV\n",
      "0.261121\n",
      "<bound method Particle.mass_square of <__main__.Particle object at 0x106757e50>>\n"
     ]
    }
   ],
   "source": [
    "par_1 = Particle('Electron', 0.511, 'MeV', -1)\n",
    "par_2 = Particle('Proton', 0.938, 'GeV', 1)\n",
    "\n",
    "print(par_1.name)\n",
    "print(par_1.mass_list)\n",
    "print(par_1.mass_square())\n",
    "\n",
    "#method needs (), attributes don't\n",
    "#what if we don't us ()\n",
    "print(par_1.mass_square) #need ()"
   ]
  },
  {
   "cell_type": "code",
   "execution_count": 63,
   "metadata": {},
   "outputs": [
    {
     "name": "stdout",
     "output_type": "stream",
     "text": [
      "0.8798439999999998 GeV^2\n"
     ]
    }
   ],
   "source": [
    "#what if you forget 'self'?\n",
    "class Particle:\n",
    "    def __init__(self, name, mass, mass_unit, charge):\n",
    "        self.name = name\n",
    "        self.mass = mass\n",
    "        self.mass_unit = mass_unit\n",
    "        self.mass_list = '{} {}'.format(mass, mass_unit)\n",
    "    \n",
    "    #def mass_square():\n",
    "    def mass_square(self):    \n",
    "        return '{} {}^2'.format(self.mass**2, self.mass_unit) \n",
    "\n",
    "par_2 = Particle('Proton', 0.938, 'GeV', 1)\n",
    "print(par_2.mass_square())   \n",
    "# 1 given argument is the instance of the class emp_2 (self) in this case"
   ]
  },
  {
   "cell_type": "markdown",
   "metadata": {},
   "source": [
    "## Two ways to call a method"
   ]
  },
  {
   "cell_type": "markdown",
   "metadata": {},
   "source": [
    "1) Call the method on the class instance "
   ]
  },
  {
   "cell_type": "code",
   "execution_count": 66,
   "metadata": {},
   "outputs": [
    {
     "data": {
      "text/plain": [
       "'0.8798439999999998 GeV^2'"
      ]
     },
     "execution_count": 66,
     "metadata": {},
     "output_type": "execute_result"
    }
   ],
   "source": [
    "par_2.mass_square()"
   ]
  },
  {
   "cell_type": "markdown",
   "metadata": {},
   "source": [
    "2) Call the method on teh class. For this we need to provide the instance (e.g. self)"
   ]
  },
  {
   "cell_type": "code",
   "execution_count": 67,
   "metadata": {},
   "outputs": [
    {
     "data": {
      "text/plain": [
       "'0.8798439999999998 GeV^2'"
      ]
     },
     "execution_count": 67,
     "metadata": {},
     "output_type": "execute_result"
    }
   ],
   "source": [
    "Particle.mass_square(par_2)"
   ]
  }
 ],
 "metadata": {
  "kernelspec": {
   "display_name": "Python 3",
   "language": "python",
   "name": "python3"
  },
  "language_info": {
   "codemirror_mode": {
    "name": "ipython",
    "version": 3
   },
   "file_extension": ".py",
   "mimetype": "text/x-python",
   "name": "python",
   "nbconvert_exporter": "python",
   "pygments_lexer": "ipython3",
   "version": "3.7.6"
  }
 },
 "nbformat": 4,
 "nbformat_minor": 4
}
