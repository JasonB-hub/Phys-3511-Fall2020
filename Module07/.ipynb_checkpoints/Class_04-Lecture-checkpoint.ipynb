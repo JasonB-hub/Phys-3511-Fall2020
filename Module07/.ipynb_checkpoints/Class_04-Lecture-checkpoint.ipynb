{
 "cells": [
  {
   "cell_type": "markdown",
   "metadata": {},
   "source": [
    "# Goals\n",
    "* Class Inheritance\n",
    "* Sub Classes\n",
    "\n",
    "# Class Inheritance\n",
    "\n",
    "Allows use to inherit attributes and methods from a partent classes.\n",
    "* Create a sub class that inherits all the functonality of our parent class\n",
    "* Overwrite or modify the sub class without affecting the parent class\n",
    "\n",
    "## Example: Particle Types\n",
    "We want to create different types of particles: leptons, hadrons, or bosons.\n",
    "\n",
    "Sub classes would be good, since the particle types will include all information from our parent Particle class.\n"
   ]
  },
  {
   "cell_type": "code",
   "execution_count": 93,
   "metadata": {},
   "outputs": [],
   "source": [
    "import numpy as np"
   ]
  },
  {
   "cell_type": "markdown",
   "metadata": {},
   "source": [
    "Working with the class and not the instance"
   ]
  },
  {
   "cell_type": "code",
   "execution_count": 1,
   "metadata": {},
   "outputs": [],
   "source": [
    "#class Particle:\n",
    "#    c = 3.0e8 #speed of light\n",
    "#    \n",
    "#    def __init__(self, name, mass, mass_unit, charge, vel):\n",
    "#        self.name = name\n",
    "#        self.mass = mass\n",
    "#        self.mass_unit = mass_unit\n",
    "#        self.vel = vel #added velocity attribute\n",
    "#        self.mass_list = '{} {}'.format(mass, mass_unit)\n",
    "# \n",
    "#    def mass_square(self):    \n",
    "#        return '{} {}^2'.format(self.mass**2, self.mass_unit) \n",
    "#\n",
    "#    def get_beta(self):\n",
    "#        return self.vel/self.c # Also use Particle.c\n",
    "#    \n",
    "#    @classmethod  # use decarator to distinquish following method as a class method\n",
    "#    def set_c_value(cls, val): #cls is used as convention. class can not be used (it is python key work)\n",
    "#        cls.c = val #note we are now working with the class and not the instance"
   ]
  },
  {
   "cell_type": "code",
   "execution_count": null,
   "metadata": {},
   "outputs": [],
   "source": []
  },
  {
   "cell_type": "code",
   "execution_count": null,
   "metadata": {},
   "outputs": [],
   "source": []
  },
  {
   "cell_type": "markdown",
   "metadata": {},
   "source": [
    "# What happened?\n",
    "1) When instantiating our Lepton, it first looked at our Lepton class\n",
    "2) There is no init method in Lepton class, so it then works through the chain of inheritances unitl it finds an init method. This is Particle class in our case.\n",
    "\n",
    "The inheritance chain the python walks through is known as the **Method Resolution Order**"
   ]
  },
  {
   "cell_type": "code",
   "execution_count": null,
   "metadata": {},
   "outputs": [],
   "source": []
  },
  {
   "cell_type": "markdown",
   "metadata": {},
   "source": [
    "We can modify our Lepton class variable without affecting the parent one"
   ]
  },
  {
   "cell_type": "code",
   "execution_count": null,
   "metadata": {},
   "outputs": [],
   "source": []
  },
  {
   "cell_type": "code",
   "execution_count": null,
   "metadata": {},
   "outputs": [],
   "source": []
  },
  {
   "cell_type": "markdown",
   "metadata": {},
   "source": [
    "### Initiating Sub Class with More Information than the Parent Class:\n",
    "\n",
    "We can access the parent class (Particle) init method in two way:\n",
    "\n",
    "1) Using the class \n",
    "   \n",
    "   > Particle.__init__() \n",
    "\n",
    "2) Using the super method\n",
    "\n",
    "   > super( ).__init__()\n",
    "   \n",
    "Using super has some benifites\n",
    "\n",
    "* We don't need to worry about the class name\n",
    "* Better when using multiple inheritances "
   ]
  },
  {
   "cell_type": "code",
   "execution_count": null,
   "metadata": {},
   "outputs": [],
   "source": []
  },
  {
   "cell_type": "code",
   "execution_count": null,
   "metadata": {},
   "outputs": [],
   "source": []
  },
  {
   "cell_type": "markdown",
   "metadata": {},
   "source": [
    "# Let's do another Example"
   ]
  },
  {
   "cell_type": "code",
   "execution_count": null,
   "metadata": {},
   "outputs": [],
   "source": []
  },
  {
   "cell_type": "code",
   "execution_count": null,
   "metadata": {},
   "outputs": [],
   "source": []
  },
  {
   "cell_type": "code",
   "execution_count": null,
   "metadata": {},
   "outputs": [],
   "source": []
  },
  {
   "cell_type": "code",
   "execution_count": null,
   "metadata": {},
   "outputs": [],
   "source": []
  },
  {
   "cell_type": "markdown",
   "metadata": {},
   "source": [
    "## Two Built in Methods\n",
    "\n",
    "1) isinstance: is instance and instance of the class\n",
    "\n",
    "2) issubclass : is class a subclass of another"
   ]
  },
  {
   "cell_type": "code",
   "execution_count": null,
   "metadata": {},
   "outputs": [],
   "source": []
  },
  {
   "cell_type": "code",
   "execution_count": null,
   "metadata": {},
   "outputs": [],
   "source": []
  },
  {
   "cell_type": "code",
   "execution_count": null,
   "metadata": {},
   "outputs": [],
   "source": []
  }
 ],
 "metadata": {
  "kernelspec": {
   "display_name": "Python 3",
   "language": "python",
   "name": "python3"
  },
  "language_info": {
   "codemirror_mode": {
    "name": "ipython",
    "version": 3
   },
   "file_extension": ".py",
   "mimetype": "text/x-python",
   "name": "python",
   "nbconvert_exporter": "python",
   "pygments_lexer": "ipython3",
   "version": "3.7.6"
  }
 },
 "nbformat": 4,
 "nbformat_minor": 4
}
