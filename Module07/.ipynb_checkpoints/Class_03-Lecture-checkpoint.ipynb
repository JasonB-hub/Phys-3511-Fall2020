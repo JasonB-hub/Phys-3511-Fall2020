{
 "cells": [
  {
   "cell_type": "markdown",
   "metadata": {},
   "source": [
    "# Goals\n",
    "* Class Methods\n",
    "* Static Methods\n",
    "\n",
    "### Reminder:\n",
    "Regular methods and classes take the instance automatically as the first argument (*self*).\n",
    "\n",
    "# Class Method\n",
    "\n",
    "Takes the class automatically as the first argument.\n",
    "You create a class method with a **decarator**\n",
    "> @classmethod\n",
    "\n",
    "A **decarator** modifies the functonality of an existing function, method or class. We can use a decatrator to change the functionality of a method to accept the class as the first argument, and not the instance.\n",
    "\n",
    "You can learn mor about decarators from this Corey Shafer <a href=\"https://www.youtube.com/watch?v=FsAPt_9Bf3U\">video </a>."
   ]
  },
  {
   "cell_type": "code",
   "execution_count": 3,
   "metadata": {},
   "outputs": [],
   "source": [
    "import numpy as np"
   ]
  },
  {
   "cell_type": "markdown",
   "metadata": {},
   "source": [
    "Working with the class and not the instance"
   ]
  },
  {
   "cell_type": "code",
   "execution_count": 7,
   "metadata": {},
   "outputs": [],
   "source": [
    "class Particle:\n",
    "    #define class variables at top of the class\n",
    "    num_part = 0 \n",
    "    c = 3.0e8 #speed of light\n",
    "    \n",
    "    def __init__(self, name, mass, mass_unit, charge, vel):\n",
    "        self.name = name\n",
    "        self.mass = mass\n",
    "        self.mass_unit = mass_unit\n",
    "        self.vel = vel #added velocity attribute\n",
    "        self.mass_list = '{} {}'.format(mass, mass_unit)\n",
    "        \n",
    "        Particle.num_part += 1 #incriment num_part by 1\n",
    "        #Particle used rather than self, because no particular instance should have a different total number of particles\n",
    "    \n",
    "    def mass_square(self):    \n",
    "        return '{} {}^2'.format(self.mass**2, self.mass_unit) \n",
    "\n",
    "    def get_beta(self):\n",
    "        return self.vel/self.c # Also use Particle.c\n",
    "    \n",
    "    @classmethod  # use decarator to distinquish following method as a class method\n",
    "    def set_c_value(cls, val): #cls is used as convention. class can not be used (it is python key work)\n",
    "        cls.c = val #note we are now working with the class and not the instance\n",
    "    "
   ]
  },
  {
   "cell_type": "code",
   "execution_count": 9,
   "metadata": {},
   "outputs": [
    {
     "name": "stdout",
     "output_type": "stream",
     "text": [
      "380000000.0\n",
      "380000000.0\n",
      "380000000.0\n"
     ]
    }
   ],
   "source": [
    "par_1 = Particle('Electron', 0.511, 'MeV', -1,1.2e7)\n",
    "par_2 = Particle('Proton', 0.938, 'GeV', 1,1.2e6)\n",
    "\n",
    "print(Particle.c)\n",
    "print(par_1.c)\n",
    "print(par_2.c)"
   ]
  },
  {
   "cell_type": "markdown",
   "metadata": {},
   "source": [
    "All print statements above are the same due the class variable being set. \n",
    "\n",
    "We can change the value $c$ to $c = 2.99\\times 10^8 m/s$ by using our *set_c* **class method**\n",
    "\n",
    "The class method *set_c_value* works with the class and modifies the class variable"
   ]
  },
  {
   "cell_type": "code",
   "execution_count": 13,
   "metadata": {},
   "outputs": [
    {
     "name": "stdout",
     "output_type": "stream",
     "text": [
      "299000000.0\n",
      "299000000.0\n",
      "299000000.0\n",
      "3\n",
      "3\n",
      "3\n"
     ]
    }
   ],
   "source": [
    "#Use the class to access the class method\n",
    "Particle.set_c_value(2.99e8) #automatically accepts class as first argument, so we don't need to specify it\n",
    "print(Particle.c)\n",
    "print(par_1.c)\n",
    "print(par_2.c)\n",
    "\n",
    "#You can also use the instance to access the class method\n",
    "#Not common practice in Python\n",
    "par_1.set_c_value(3)\n",
    "print(Particle.c)\n",
    "print(par_1.c)\n",
    "print(par_2.c)"
   ]
  },
  {
   "cell_type": "markdown",
   "metadata": {},
   "source": [
    "## Using Class Methods as Constructors\n",
    "\n",
    "Class methods can be used to create various constructors. \n",
    "\n",
    "### Example: \n",
    "We would like to pass our particle data in as a csv string\n",
    "> 'Muon,0.1057,GeV,-1,9.2e7'\n",
    "\n",
    "We can prepaer the data so that it is in the appropriate form for the class"
   ]
  },
  {
   "cell_type": "code",
   "execution_count": 22,
   "metadata": {},
   "outputs": [
    {
     "name": "stdout",
     "output_type": "stream",
     "text": [
      "Muon\n",
      "9.2e7\n"
     ]
    }
   ],
   "source": [
    "par_str_1 = 'Muon,0.1057,GeV,-1,9.2e7'\n",
    "\n",
    "#to parse the sting we can use split method and save splits into seperate variables\n",
    "name, mass, mass_unit, charge, vel = par_str_1.split(',')\n",
    "\n",
    "#pass those split variables to Particle class to make a new particle\n",
    "par_3 = Particle(name, mass, mass_unit, charge, vel)\n",
    "\n",
    "#Works, yeah!\n",
    "print(par_3.name)\n",
    "print(par_3.vel)"
   ]
  },
  {
   "cell_type": "markdown",
   "metadata": {},
   "source": [
    "That is fine if it is a one off thing. But, what if we get a lot of data in this form? This is annoying we would need to do it for all of the entries.\n",
    "\n",
    "We can modify our class to also except this form using a class method to creat an **alternative constructor**. \n"
   ]
  },
  {
   "cell_type": "code",
   "execution_count": 26,
   "metadata": {},
   "outputs": [],
   "source": [
    "class Particle:\n",
    "    #define class variables at top of the class\n",
    "    num_part = 0 \n",
    "    c = 3.0e8 #speed of light\n",
    "    \n",
    "    def __init__(self, name, mass, mass_unit, charge, vel):\n",
    "        self.name = name\n",
    "        self.mass = mass\n",
    "        self.mass_unit = mass_unit\n",
    "        self.vel = vel #added velocity attribute\n",
    "        self.mass_list = '{} {}'.format(mass, mass_unit)\n",
    "        \n",
    "        Particle.num_part += 1 #incriment num_part by 1\n",
    "        #Particle used rather than self, because no particular instance should have a different total number of particles\n",
    "    \n",
    "    def mass_square(self):    \n",
    "        return '{} {}^2'.format(self.mass**2, self.mass_unit) \n",
    "\n",
    "    def get_beta(self):\n",
    "        return self.vel/self.c # Also use Particle.c\n",
    "    \n",
    "    @classmethod  # use decarator to distinquish following method as a class method\n",
    "    def set_c_value(cls, val): #cls is used as convention. class can not be used (it is python key work)\n",
    "        cls.c = val #note we are now working with the class and not the instance\n",
    "    \n",
    "    @classmethod\n",
    "    def from_string(cls, par_string):  #starting with from is convention for alternative constructor\n",
    "        name, mass, mass_unit, charge, vel = par_string.split(',')\n",
    "        return cls(name, mass, mass_unit, charge, vel) #creates new particle\n",
    "        #The above is just like below which is how we usually create new particles. But we replace Particle class name\n",
    "        #with cls (remeber that is the class) \n",
    "        #Particle(name, mass, mass_unit, charge, vel)\n",
    "        \n",
    "        #we now need to return the new particle so we can receive the particle object when the method is called\n",
    "\n",
    "    "
   ]
  },
  {
   "cell_type": "code",
   "execution_count": 27,
   "metadata": {},
   "outputs": [
    {
     "name": "stdout",
     "output_type": "stream",
     "text": [
      "Muon\n"
     ]
    }
   ],
   "source": [
    "par_str_1 = 'Muon,0.1057,GeV,-1,9.2e7'\n",
    "par_3 = Particle.from_string(par_str_1)\n",
    "print(par_3.name)"
   ]
  },
  {
   "cell_type": "markdown",
   "metadata": {},
   "source": [
    "### from_string Summary:\n",
    "1) Pass in particle string\\\n",
    "2) Class method (*from_string*) receives the string and parses it via split\\\n",
    "3) Various parts are saved as arguments taken by the init method\\\n",
    "4) Class method creates a new Particle object and returns it"
   ]
  },
  {
   "cell_type": "markdown",
   "metadata": {},
   "source": [
    "# Static Methods\n",
    "\n",
    "* **Regular methods** automatically pass the instance of the class as the first argument (e.g. *self*)\n",
    "* **Class methods** automatically pass the class as the first argument (e.g. *cls*)\n",
    "* **Statice methods** do not pass anything automatically\n",
    "   - Behave like regular functions\n",
    "\n",
    "## When do you use a static method?\n",
    " When you have a function in your class that does not access the class or instance of the class."
   ]
  },
  {
   "cell_type": "code",
   "execution_count": 50,
   "metadata": {},
   "outputs": [],
   "source": [
    "class Particle:\n",
    "    #define class variables at top of the class\n",
    "    num_part = 0 \n",
    "    c = 3.0e8 #speed of light\n",
    "    \n",
    "    def __init__(self, name, mass, mass_unit, charge, vel):\n",
    "        self.name = name\n",
    "        self.mass = mass\n",
    "        self.mass_unit = mass_unit\n",
    "        self.vel = vel #added velocity attribute\n",
    "        self.mass_list = '{} {}'.format(mass, mass_unit)\n",
    "        \n",
    "        Particle.num_part += 1 #incriment num_part by 1\n",
    "        #Particle used rather than self, because no particular instance should have a different total number of particles\n",
    "    \n",
    "    def mass_square(self):    \n",
    "        return '{} {}^2'.format(self.mass**2, self.mass_unit) \n",
    "\n",
    "    def get_beta(self):\n",
    "        return self.vel/self.c # Also use Particle.c\n",
    "    \n",
    "    @classmethod  # use decarator to distinquish following method as a class method\n",
    "    def set_c_value(cls, val): #cls is used as convention. class can not be used (it is python key work)\n",
    "        cls.c = val #note we are now working with the class and not the instance\n",
    "    \n",
    "    @classmethod\n",
    "    def from_string(cls, par_string):  #starting with from is convention for alternative constructor\n",
    "        name, mass, mass_unit, charge, vel = par_string.split(',')\n",
    "        mass = float(mass)\n",
    "        vel = float(vel)\n",
    "        charge = int(charge)\n",
    "        \n",
    "        return cls(name, mass, mass_unit, charge, vel) #creates new particle\n",
    "        #The above is just like below which is how we usually create new particles. But we replace Particle class name\n",
    "        #with cls (remeber that is the class) \n",
    "        #Particle(name, mass, mass_unit, charge, vel)\n",
    "        \n",
    "        #we now need to return the new particle so we can receive the particle object when the method is called\n",
    "\n",
    "    @staticmethod\n",
    "    def static_beta(vel, c):\n",
    "        return vel/c"
   ]
  },
  {
   "cell_type": "code",
   "execution_count": 52,
   "metadata": {},
   "outputs": [
    {
     "name": "stdout",
     "output_type": "stream",
     "text": [
      "300000000.0\n",
      "0.30666666666666664\n",
      "0.30666666666666664\n"
     ]
    }
   ],
   "source": [
    "par_str_1 = 'Muon,0.1057,GeV,-1,9.2e7'\n",
    "\n",
    "print(Particle.c)\n",
    "par_1 = Particle('Electron', 0.511, 'MeV', -1,1.2e7)\n",
    "par_2 = Particle('Proton', 0.938, 'GeV', 1,1.2e6)\n",
    "par_3 = Particle.from_string(par_str_1)\n",
    "\n",
    "\n",
    "print(par_3.get_beta())\n",
    "print(par_3.static_beta(9.2e7,3e8))"
   ]
  },
  {
   "cell_type": "code",
   "execution_count": null,
   "metadata": {},
   "outputs": [],
   "source": []
  }
 ],
 "metadata": {
  "kernelspec": {
   "display_name": "Python 3",
   "language": "python",
   "name": "python3"
  },
  "language_info": {
   "codemirror_mode": {
    "name": "ipython",
    "version": 3
   },
   "file_extension": ".py",
   "mimetype": "text/x-python",
   "name": "python",
   "nbconvert_exporter": "python",
   "pygments_lexer": "ipython3",
   "version": "3.7.6"
  }
 },
 "nbformat": 4,
 "nbformat_minor": 4
}
