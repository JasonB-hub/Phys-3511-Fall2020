{
 "cells": [
  {
   "cell_type": "markdown",
   "metadata": {},
   "source": [
    "# Goals\n",
    "* Class Inheritance\n",
    "* Sub Classes\n",
    "\n",
    "# Class Inheritance\n",
    "\n",
    "Allows use to inherit attributes and methods from a partent classes.\n",
    "* Create a sub class that inherits all the functonality of our parent class\n",
    "* Overwrite or modify the sub class without affecting the parent class\n",
    "\n",
    "## Example: Particle Types\n",
    "We want to create different types of particles: leptons, hadrons, or bosons.\n",
    "\n",
    "Sub classes would be good, since the particle types will include all information from our parent Particle class.\n"
   ]
  },
  {
   "cell_type": "code",
   "execution_count": 93,
   "metadata": {},
   "outputs": [],
   "source": [
    "import numpy as np"
   ]
  },
  {
   "cell_type": "markdown",
   "metadata": {},
   "source": [
    "Working with the class and not the instance"
   ]
  },
  {
   "cell_type": "code",
   "execution_count": 94,
   "metadata": {},
   "outputs": [],
   "source": [
    "class Particle:\n",
    "    c = 3.0e8 #speed of light\n",
    "    \n",
    "    def __init__(self, name, mass, mass_unit, charge, vel):\n",
    "        self.name = name\n",
    "        self.mass = mass\n",
    "        self.mass_unit = mass_unit\n",
    "        self.vel = vel #added velocity attribute\n",
    "        self.mass_list = '{} {}'.format(mass, mass_unit)\n",
    " \n",
    "    def mass_square(self):    \n",
    "        return '{} {}^2'.format(self.mass**2, self.mass_unit) \n",
    "\n",
    "    def get_beta(self):\n",
    "        return self.vel/self.c # Also use Particle.c\n",
    "    \n",
    "    @classmethod  # use decarator to distinquish following method as a class method\n",
    "    def set_c_value(cls, val): #cls is used as convention. class can not be used (it is python key work)\n",
    "        cls.c = val #note we are now working with the class and not the instance"
   ]
  },
  {
   "cell_type": "code",
   "execution_count": 95,
   "metadata": {},
   "outputs": [],
   "source": [
    "class Hadron:\n",
    "    pass\n",
    "class Boson:\n",
    "    pass\n",
    "class Lepton(Particle): #classes to inherit go in the '()'\n",
    "#class Lepton(Hadron, Boson, Particle): #classes to inherit go in the '()'\n",
    "    pass\n",
    "#Lepton class is now a clone of the Particle class, so has all of its functionality"
   ]
  },
  {
   "cell_type": "code",
   "execution_count": 96,
   "metadata": {},
   "outputs": [
    {
     "name": "stdout",
     "output_type": "stream",
     "text": [
      "Electron\n",
      "Electron\n"
     ]
    }
   ],
   "source": [
    "par_1 = Particle('Electron', 0.511, 'MeV', -1,1.2e7)\n",
    "par_2 = Particle('Proton', 0.938, 'GeV', 1,1.2e6)\n",
    "\n",
    "lep_1 = Lepton('Electron', 0.511, 'MeV', -1,1.2e7)\n",
    "\n",
    "\n",
    "print(par_1.name)\n",
    "print(lep_1.name)"
   ]
  },
  {
   "cell_type": "markdown",
   "metadata": {},
   "source": [
    "# What happened?\n",
    "1) When instantiating our Lepton, it first looked at our Lepton class\n",
    "2) There is no init method in Lepton class, so it then works through the chain of inheritances unitl it finds an init method. This is Particle class in our case.\n",
    "\n",
    "The inheritance chain the python walks through is known as the **Method Resolution Order**"
   ]
  },
  {
   "cell_type": "code",
   "execution_count": 97,
   "metadata": {},
   "outputs": [
    {
     "name": "stdout",
     "output_type": "stream",
     "text": [
      "Help on class Lepton in module __main__:\n",
      "\n",
      "class Lepton(Particle)\n",
      " |  Lepton(name, mass, mass_unit, charge, vel)\n",
      " |  \n",
      " |  Method resolution order:\n",
      " |      Lepton\n",
      " |      Particle\n",
      " |      builtins.object\n",
      " |  \n",
      " |  Methods inherited from Particle:\n",
      " |  \n",
      " |  __init__(self, name, mass, mass_unit, charge, vel)\n",
      " |      Initialize self.  See help(type(self)) for accurate signature.\n",
      " |  \n",
      " |  get_beta(self)\n",
      " |  \n",
      " |  mass_square(self)\n",
      " |  \n",
      " |  ----------------------------------------------------------------------\n",
      " |  Class methods inherited from Particle:\n",
      " |  \n",
      " |  set_c_value(val) from builtins.type\n",
      " |  \n",
      " |  ----------------------------------------------------------------------\n",
      " |  Data descriptors inherited from Particle:\n",
      " |  \n",
      " |  __dict__\n",
      " |      dictionary for instance variables (if defined)\n",
      " |  \n",
      " |  __weakref__\n",
      " |      list of weak references to the object (if defined)\n",
      " |  \n",
      " |  ----------------------------------------------------------------------\n",
      " |  Data and other attributes inherited from Particle:\n",
      " |  \n",
      " |  c = 300000000.0\n",
      "\n",
      "None\n"
     ]
    }
   ],
   "source": [
    "print(help(Lepton)) # use help function with class as argument to get lots of info includeing Meth. res. order\n",
    "#Method resolution order follows the argument order in which classes are listed \n",
    "\n",
    "#All python objects inherit from builtins.object\n",
    "\n",
    "#can also see what methods and attributes were inherited"
   ]
  },
  {
   "cell_type": "markdown",
   "metadata": {},
   "source": [
    "We can modify our Lepton class variable without affecting the parent one"
   ]
  },
  {
   "cell_type": "code",
   "execution_count": 98,
   "metadata": {},
   "outputs": [
    {
     "name": "stdout",
     "output_type": "stream",
     "text": [
      "300000000.0\n",
      "300000000.0\n"
     ]
    }
   ],
   "source": [
    "print(par_1.c)\n",
    "print(lep_1.c)"
   ]
  },
  {
   "cell_type": "code",
   "execution_count": 99,
   "metadata": {},
   "outputs": [
    {
     "name": "stdout",
     "output_type": "stream",
     "text": [
      "300000000.0\n",
      "299000000.0\n"
     ]
    }
   ],
   "source": [
    "lep_1.set_c_value(2.99e8)\n",
    "\n",
    "print(par_1.c)\n",
    "print(lep_1.c)"
   ]
  },
  {
   "cell_type": "markdown",
   "metadata": {},
   "source": [
    "### Initiating Sub Class with More Information than the Parent Class:\n",
    "\n",
    "We can access the parent class (Particle) init method in two way:\n",
    "\n",
    "1) Using the class \n",
    "   \n",
    "   > Particle.__init__() \n",
    "\n",
    "2) Using the super method\n",
    "\n",
    "   > super( ).__init__()\n",
    "   \n",
    "Using super has some benifites\n",
    "\n",
    "* We don't need to worry about the class name\n",
    "* Better when using multiple inheritances "
   ]
  },
  {
   "cell_type": "code",
   "execution_count": 100,
   "metadata": {},
   "outputs": [],
   "source": [
    "class Lepton(Particle): #classes to inherit go in the '()'\n",
    "#class Lepton(Hadron, Boson, Particle): #classes to inherit go in the '()'\n",
    "\n",
    "    def __init__(self,name, mass, mass_unit, charge, vel, anti):\n",
    "        super().__init__(name, mass, mass_unit, charge, vel) #lets Particle class init method handle this stuff\n",
    "        #Particle.__init__(self,name, mass, mass_unit, charge, vel) #same result as above\n",
    "\n",
    "        self.anti = anti\n",
    "    \n",
    "#Lepton class is now a clone of the Particle class, so has all of its functionality"
   ]
  },
  {
   "cell_type": "code",
   "execution_count": 101,
   "metadata": {},
   "outputs": [
    {
     "name": "stdout",
     "output_type": "stream",
     "text": [
      "Electron\n",
      "Positron\n"
     ]
    }
   ],
   "source": [
    "par_1 = Lepton('Electron', 0.511, 'MeV', -1, 1.2e7,'Positron')\n",
    "\n",
    "print(par_1.name)\n",
    "print(par_1.anti)"
   ]
  },
  {
   "cell_type": "markdown",
   "metadata": {},
   "source": [
    "# Let's do another Example"
   ]
  },
  {
   "cell_type": "code",
   "execution_count": 102,
   "metadata": {},
   "outputs": [],
   "source": [
    "class Hadron(Particle): #class inherits from Particle class\n",
    "     def __init__(self,name, mass, mass_unit, charge, vel, particles = None): #mod init to use list of particles \n",
    "        super().__init__(name, mass, mass_unit, charge, vel) #lets Particle class init method handle this stuff\n",
    "        if particles is None:\n",
    "            self.particles = [] #if true create an empty list\n",
    "        else:\n",
    "            self.particles = particles # if False then add the particles to the list\n",
    "    \n",
    "    #method to add particles to the list\n",
    "     def add_part(self,part):\n",
    "        if part not in self.particles:\n",
    "            self.particles.append(part)\n",
    "            \n",
    "    #method to remove particles to the list\n",
    "     def remove_part(self,part):\n",
    "        if part in self.particles:\n",
    "            self.particles.remove(part)\n",
    "            \n",
    "    #method to print particle list\n",
    "     def print_part(self):\n",
    "        for part in self.particles:\n",
    "            print('-->', part.name)"
   ]
  },
  {
   "cell_type": "code",
   "execution_count": 107,
   "metadata": {},
   "outputs": [
    {
     "name": "stdout",
     "output_type": "stream",
     "text": [
      "--> Neutron\n",
      "--> Proton\n"
     ]
    }
   ],
   "source": [
    "par_1 = Lepton('Electron', 0.511, 'MeV', -1, 1.2e7,'Positron')\n",
    "par_2 = Particle('Proton', 0.938, 'GeV', 1,1.2e6)\n",
    "\n",
    "par_3 = Hadron('Neutron', 0.939, 'GeV', 0, 3.5e7, [par_3])\n",
    "par_3.add_part(par_2)\n",
    "par_3.print_part()"
   ]
  },
  {
   "cell_type": "code",
   "execution_count": 108,
   "metadata": {},
   "outputs": [
    {
     "name": "stdout",
     "output_type": "stream",
     "text": [
      "--> Neutron\n",
      "--> Proton\n",
      "--> Electron\n"
     ]
    }
   ],
   "source": [
    "par_3.add_part(par_1)\n",
    "par_3.print_part()"
   ]
  },
  {
   "cell_type": "code",
   "execution_count": 109,
   "metadata": {},
   "outputs": [
    {
     "name": "stdout",
     "output_type": "stream",
     "text": [
      "--> Neutron\n",
      "--> Proton\n"
     ]
    }
   ],
   "source": [
    "par_3.remove_part(par_1)\n",
    "par_3.print_part()"
   ]
  },
  {
   "cell_type": "markdown",
   "metadata": {},
   "source": [
    "## Two Built in Methods\n",
    "\n",
    "1) isinstance: is instance and instance of the class\n",
    "\n",
    "2) issubclass : is class a subclass of another"
   ]
  },
  {
   "cell_type": "code",
   "execution_count": 113,
   "metadata": {},
   "outputs": [
    {
     "name": "stdout",
     "output_type": "stream",
     "text": [
      "True\n",
      "True\n",
      "False\n"
     ]
    }
   ],
   "source": [
    "print(isinstance(par_3,Hadron))\n",
    "print(isinstance(par_3,Particle))\n",
    "print(isinstance(par_3,Lepton))\n"
   ]
  },
  {
   "cell_type": "code",
   "execution_count": 117,
   "metadata": {},
   "outputs": [
    {
     "name": "stdout",
     "output_type": "stream",
     "text": [
      "False\n",
      "True\n",
      "False\n",
      "True\n"
     ]
    }
   ],
   "source": [
    "print(issubclass(Lepton,Hadron))\n",
    "print(issubclass(Hadron,Particle))\n",
    "print(issubclass(Particle,Lepton))\n",
    "print(issubclass(Lepton,Particle))"
   ]
  },
  {
   "cell_type": "code",
   "execution_count": null,
   "metadata": {},
   "outputs": [],
   "source": []
  }
 ],
 "metadata": {
  "kernelspec": {
   "display_name": "Python 3",
   "language": "python",
   "name": "python3"
  },
  "language_info": {
   "codemirror_mode": {
    "name": "ipython",
    "version": 3
   },
   "file_extension": ".py",
   "mimetype": "text/x-python",
   "name": "python",
   "nbconvert_exporter": "python",
   "pygments_lexer": "ipython3",
   "version": "3.7.6"
  }
 },
 "nbformat": 4,
 "nbformat_minor": 4
}
