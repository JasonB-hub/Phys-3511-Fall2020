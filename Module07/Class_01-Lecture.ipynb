{
 "cells": [
  {
   "cell_type": "markdown",
   "metadata": {},
   "source": [
    "# Goals\n",
    "* How to create a simple class\n",
    "* The difference between a class and an instance of a class\n",
    "* Define class atributes and methods\n",
    "\n",
    "# Why Classes?\n",
    "\n",
    "* Used in a lot of modern languages (e.g. C++, Java,...)\n",
    "* Logically group data and functions\n",
    "* Build upon them\n",
    "* Do not need to redefine each time\n",
    "\n",
    "## Associated with classes are attributes and methods (data/functions)\n",
    "\n",
    "# Example: A particle class\n",
    "### We'll make a class Particle and for each particle define specific attributes and methods\n",
    "* name\n",
    "* mass\n",
    "* mass unit\n",
    "* charge\n",
    "* actions"
   ]
  },
  {
   "cell_type": "code",
   "execution_count": 1,
   "metadata": {},
   "outputs": [],
   "source": [
    "#for an empty class use pass\n",
    "class Particle:\n",
    "    pass"
   ]
  },
  {
   "cell_type": "markdown",
   "metadata": {},
   "source": [
    "## Class: \n",
    "Is a template for creating instances\n",
    "\n",
    "## Instance of a class: \n",
    "Each particle created from the Particle class is an instance (object) of that class.\n",
    "\n",
    "We can define unique instances of the Particle class. Note they have their own location in memory"
   ]
  },
  {
   "cell_type": "code",
   "execution_count": 2,
   "metadata": {},
   "outputs": [],
   "source": [
    "par_1 = Particle()\n",
    "par_2 = Particle()"
   ]
  },
  {
   "cell_type": "markdown",
   "metadata": {},
   "source": [
    "## Instance variables:\n",
    "Contain data that is unique to an instance"
   ]
  },
  {
   "cell_type": "code",
   "execution_count": 4,
   "metadata": {},
   "outputs": [
    {
     "name": "stdout",
     "output_type": "stream",
     "text": [
      "Electron\n",
      "Proton\n"
     ]
    }
   ],
   "source": [
    "#par_1 and par_2 are instances of Particle class\n",
    "par_1.name = 'Electron'\n",
    "par_1.mass = 0.511\n",
    "par_1.mass_unit = 'MeV'\n",
    "par_1.charge = -1\n",
    "\n",
    "par_2.name = 'Proton'\n",
    "par_2.mass = 0.938\n",
    "par_2.mass_unit = 'GeV'\n",
    "par_2.charge = 1\n",
    "\n",
    "print(par_1.name)\n",
    "print(par_2.name)"
   ]
  },
  {
   "cell_type": "markdown",
   "metadata": {},
   "source": [
    "## Init Method\n",
    "\n",
    "Cool, but that is a lot of code we need for each particle. We can have the class do this automatically using the *init* method.\n",
    "\n",
    "*init* method is an **initialization** method for the class (e.g. a constructor). \n",
    "\n",
    "Methods created in a class recieve the instance as the first argument. Additional arguments can follow.\n",
    "By convention, the instance argument is called *self*"
   ]
  },
  {
   "cell_type": "code",
   "execution_count": 6,
   "metadata": {},
   "outputs": [],
   "source": [
    "class Particle:\n",
    "    def __init__(self, name: str, mass: float, mass_unit: str, charge: float):\n",
    "        self.name = name\n",
    "        self.mass = mass\n",
    "        self.mass_unit = mass_unit\n",
    "        self.charge = charge\n",
    "        self.mass_list = '{} {}'.format(mass, mass_unit)"
   ]
  },
  {
   "cell_type": "code",
   "execution_count": 9,
   "metadata": {},
   "outputs": [
    {
     "name": "stdout",
     "output_type": "stream",
     "text": [
      "Electron\n",
      "0.511 MeV\n"
     ]
    }
   ],
   "source": [
    "#init method will run automatically and par_1 is passed in as self and sets atributes\n",
    "par_1 = Particle('Electron', 0.511, 'MeV', -1) # instance is passed automatically, don't need to specify\n",
    "par_2 = Particle('Proton', 0.938, 'GeV', 1)\n",
    "\n",
    "print(par_1.name)\n",
    "print(par_1.mass_list)"
   ]
  },
  {
   "cell_type": "markdown",
   "metadata": {},
   "source": [
    "## Adding Actions\n",
    "Can define methods (functions) within the class"
   ]
  },
  {
   "cell_type": "code",
   "execution_count": 51,
   "metadata": {},
   "outputs": [],
   "source": [
    "class Particle:\n",
    "    def __init__(self, name, mass, mass_unit, charge):\n",
    "        self.name = name\n",
    "        self.mass = mass\n",
    "        self.mass_unit = mass_unit\n",
    "        self.mass_list = '{} {}'.format(mass, mass_unit)\n",
    "    \n",
    " "
   ]
  },
  {
   "cell_type": "code",
   "execution_count": null,
   "metadata": {},
   "outputs": [],
   "source": []
  },
  {
   "cell_type": "code",
   "execution_count": 10,
   "metadata": {},
   "outputs": [],
   "source": [
    "#what if you forget 'self'?\n",
    "class Particle:\n",
    "    def __init__(self, name, mass, mass_unit, charge):\n",
    "        self.name = name\n",
    "        self.mass = mass\n",
    "        self.mass_unit = mass_unit\n",
    "        self.mass_list = '{} {}'.format(mass, mass_unit)\n",
    "    \n",
    "    #def mass_square():\n",
    "    def mass_square(self):    \n",
    "        '''Returns the mass of the particle squared in the format of the mass list'''\n",
    "        return '{} {}^2'.format(self.mass**2, self.mass_unit) \n",
    "\n",
    "# 1 given argument is the instance of the class emp_2 (self) in this case"
   ]
  },
  {
   "cell_type": "markdown",
   "metadata": {},
   "source": [
    "## Two ways to call a method"
   ]
  },
  {
   "cell_type": "markdown",
   "metadata": {},
   "source": [
    "1) Call the method on the class instance "
   ]
  },
  {
   "cell_type": "code",
   "execution_count": null,
   "metadata": {},
   "outputs": [],
   "source": []
  },
  {
   "cell_type": "markdown",
   "metadata": {},
   "source": [
    "2) Call the method on teh class. For this we need to provide the instance (e.g. self)"
   ]
  },
  {
   "cell_type": "code",
   "execution_count": null,
   "metadata": {},
   "outputs": [],
   "source": []
  },
  {
   "cell_type": "code",
   "execution_count": null,
   "metadata": {},
   "outputs": [],
   "source": []
  }
 ],
 "metadata": {
  "kernelspec": {
   "display_name": "Python 3",
   "language": "python",
   "name": "python3"
  },
  "language_info": {
   "codemirror_mode": {
    "name": "ipython",
    "version": 3
   },
   "file_extension": ".py",
   "mimetype": "text/x-python",
   "name": "python",
   "nbconvert_exporter": "python",
   "pygments_lexer": "ipython3",
   "version": "3.7.4"
  }
 },
 "nbformat": 4,
 "nbformat_minor": 4
}
