{
 "cells": [
  {
   "cell_type": "markdown",
   "metadata": {},
   "source": [
    "# Goals\n",
    "\n",
    "* Special methods\n",
    "\n",
    "## Special Methods\n",
    "**Special methods**, also known as *magic* methods allow us to emulate built in features of Python.\n",
    "These methods will allow us to impliment **operater overloading**\n",
    "\n",
    "\n"
   ]
  },
  {
   "cell_type": "code",
   "execution_count": 1,
   "metadata": {},
   "outputs": [],
   "source": [
    "#depending on the contex '+' has different behaviors\n"
   ]
  },
  {
   "cell_type": "code",
   "execution_count": 2,
   "metadata": {},
   "outputs": [],
   "source": [
    "class Particle:\n",
    "    #define class variables at top of the class\n",
    "    num_part = 0 \n",
    "    c = 3.0e8 #speed of light\n",
    "    \n",
    "    def __init__(self, name, mass, mass_unit, charge, vel):\n",
    "        self.name = name\n",
    "        self.mass = mass\n",
    "        self.mass_unit = mass_unit\n",
    "        self.vel = vel #added velocity attribute\n",
    "        self.mass_list = '{} {}'.format(mass, mass_unit)\n",
    "        \n",
    "        Particle.num_part += 1 #incriment num_part by 1\n",
    "        #Particle used rather than self, because no particular instance should have a different total number of particles\n",
    "    \n",
    "    def mass_square(self):    \n",
    "        return '{} {}^2'.format(self.mass**2, self.mass_unit) \n",
    "\n",
    "    def get_beta(self):\n",
    "        return self.vel/self.c # Also use Particle.c"
   ]
  },
  {
   "cell_type": "code",
   "execution_count": 3,
   "metadata": {},
   "outputs": [],
   "source": [
    "par_1 = Particle('Electron', 0.511, 'MeV', -1, 1.2e7)\n",
    "par_2 = Particle('Proton', 0.938, 'GeV', 1,1.2e6)\n"
   ]
  },
  {
   "cell_type": "code",
   "execution_count": 7,
   "metadata": {},
   "outputs": [
    {
     "name": "stdout",
     "output_type": "stream",
     "text": [
      "<__main__.Particle object at 0x1104f06d0>\n"
     ]
    }
   ],
   "source": [
    "print(par_1) # would like this to give more user friendly info... we can use special methods"
   ]
  },
  {
   "cell_type": "markdown",
   "metadata": {},
   "source": [
    "Special methods are usually surrounded by '__', double under score, aslo refered to as dunder\n",
    "> __special_method__\n",
    "\n",
    "Our class init method is a dunder method and is a special method\n",
    "\n",
    "Two other special methods:\n",
    "* __repr__ : representation of the object. Mostly seen by developers and used for debugging\n",
    "\n",
    "* __str__ : a readable representation of the object. Meant to be seen by the users."
   ]
  },
  {
   "cell_type": "markdown",
   "metadata": {},
   "source": [
    "**repr**, we would want to be something that can be used to recreate our object"
   ]
  },
  {
   "cell_type": "code",
   "execution_count": 17,
   "metadata": {},
   "outputs": [],
   "source": [
    "class Particle:\n",
    "    #define class variables at top of the class\n",
    "    num_part = 0 \n",
    "    c = 3.0e8 #speed of light\n",
    "    \n",
    "    def __init__(self, name, mass, mass_unit, charge, vel):\n",
    "        self.name = name\n",
    "        self.mass = mass\n",
    "        self.mass_unit = mass_unit\n",
    "        self.charge = charge\n",
    "        self.vel = vel #added velocity attribute\n",
    "        self.mass_list = '{} {}'.format(mass, mass_unit)\n",
    "        \n",
    "        Particle.num_part += 1 #incriment num_part by 1\n",
    "        #Particle used rather than self, because no particular instance should have a different total number of particles\n",
    "    \n",
    "    def mass_square(self):    \n",
    "        return '{} {}^2'.format(self.mass**2, self.mass_unit) \n",
    "\n",
    "    def get_beta(self):\n",
    "        return self.vel/self.c # Also use Particle.c\n",
    "    \n",
    "    "
   ]
  },
  {
   "cell_type": "code",
   "execution_count": 4,
   "metadata": {},
   "outputs": [],
   "source": [
    "#par_1 = Particle('Electron', 0.511, 'MeV', -1, 1.2e7)\n",
    "#par_2 = Particle('Proton', 0.938, 'GeV', 1,1.2e6)\n",
    "\n",
    "#print(par_1) #repr returns the string needed to create the object"
   ]
  },
  {
   "cell_type": "markdown",
   "metadata": {},
   "source": [
    "Let's define the str method"
   ]
  },
  {
   "cell_type": "code",
   "execution_count": 20,
   "metadata": {},
   "outputs": [],
   "source": [
    "class Particle:\n",
    "    #define class variables at top of the class\n",
    "    num_part = 0 \n",
    "    c = 3.0e8 #speed of light\n",
    "    \n",
    "    def __init__(self, name, mass, mass_unit, charge, vel):\n",
    "        self.name = name\n",
    "        self.mass = mass\n",
    "        self.mass_unit = mass_unit\n",
    "        self.charge = charge\n",
    "        self.vel = vel #added velocity attribute\n",
    "        self.mass_list = '{} {}'.format(mass, mass_unit)\n",
    "        \n",
    "        Particle.num_part += 1 #incriment num_part by 1\n",
    "        #Particle used rather than self, because no particular instance should have a different total number of particles\n",
    "    \n",
    "    def mass_square(self):    \n",
    "        return '{} {}^2'.format(self.mass**2, self.mass_unit) \n",
    "\n",
    "    def get_beta(self):\n",
    "        return self.vel/self.c # Also use Particle.c\n",
    "    \n",
    "\n",
    "    "
   ]
  },
  {
   "cell_type": "code",
   "execution_count": 5,
   "metadata": {},
   "outputs": [],
   "source": [
    "#par_1 = Particle('Electron', 0.511, 'MeV', -1, 1.2e7)\n",
    "#par_2 = Particle('Proton', 0.938, 'GeV', 1,1.2e6)\n",
    "\n",
    "#print(par_1) #str returns the string specified\n",
    "#str get printed by default of repr.\n",
    "#Both can still be accessed"
   ]
  },
  {
   "cell_type": "markdown",
   "metadata": {},
   "source": [
    "We can access repr or str methods by specifying them"
   ]
  },
  {
   "cell_type": "code",
   "execution_count": null,
   "metadata": {},
   "outputs": [],
   "source": []
  },
  {
   "cell_type": "markdown",
   "metadata": {},
   "source": [
    "Above are actually running the repr and str special methods"
   ]
  },
  {
   "cell_type": "code",
   "execution_count": 6,
   "metadata": {},
   "outputs": [],
   "source": [
    "# press tab after par_1.__ for list of methods\n"
   ]
  },
  {
   "cell_type": "markdown",
   "metadata": {},
   "source": [
    "### Some more special methods"
   ]
  },
  {
   "cell_type": "code",
   "execution_count": null,
   "metadata": {},
   "outputs": [],
   "source": []
  },
  {
   "cell_type": "code",
   "execution_count": null,
   "metadata": {},
   "outputs": [],
   "source": []
  },
  {
   "cell_type": "code",
   "execution_count": null,
   "metadata": {},
   "outputs": [],
   "source": []
  },
  {
   "cell_type": "markdown",
   "metadata": {},
   "source": [
    "We can define our own dunder add method for our Particle class to get the total mass."
   ]
  },
  {
   "cell_type": "code",
   "execution_count": 7,
   "metadata": {},
   "outputs": [],
   "source": [
    "class Particle:\n",
    "    #define class variables at top of the class\n",
    "    num_part = 0 \n",
    "    c = 3.0e8 #speed of light\n",
    "    \n",
    "    def __init__(self, name, mass, mass_unit, charge, vel):\n",
    "        self.name = name\n",
    "        self.mass = mass\n",
    "        self.mass_unit = mass_unit\n",
    "        self.charge = charge\n",
    "        self.vel = vel #added velocity attribute\n",
    "        self.mass_list = '{} {}'.format(mass, mass_unit)\n",
    "        \n",
    "        Particle.num_part += 1 #incriment num_part by 1\n",
    "        #Particle used rather than self, because no particular instance should have a different total number of particles\n",
    "    \n",
    "    def mass_square(self):    \n",
    "        return '{} {}^2'.format(self.mass**2, self.mass_unit) \n",
    "\n",
    "    def get_beta(self):\n",
    "        return self.vel/self.c # Also use Particle.c\n",
    "    \n",
    "    def __repr__(self):\n",
    "        #return a string which would create a Particle object\n",
    "        return 'Particle({},{},{},{},{})'.format(self.name, self.mass, self.mass_unit, self.charge, self.vel)\n",
    "    \n",
    "    def __str__(self):\n",
    "        return '{}: {} {}'.format(self.name, self.mass, self.mass_unit)\n",
    "    \n"
   ]
  },
  {
   "cell_type": "code",
   "execution_count": 8,
   "metadata": {},
   "outputs": [],
   "source": [
    "#par_1 = Particle('Electron', 0.511, 'MeV', -1, 1.2e7)\n",
    "#par_2 = Particle('Proton', 0.938, 'GeV', 1,1.2e6)\n",
    "\n",
    "#print(par_1 + par_2) \n",
    "#If we try this without our add method we get an error about unsupported '+'\n"
   ]
  },
  {
   "cell_type": "markdown",
   "metadata": {},
   "source": [
    "The *len* method is also a special method"
   ]
  },
  {
   "cell_type": "code",
   "execution_count": 46,
   "metadata": {},
   "outputs": [
    {
     "name": "stdout",
     "output_type": "stream",
     "text": [
      "4\n"
     ]
    }
   ],
   "source": [
    "print(len('test'))"
   ]
  },
  {
   "cell_type": "code",
   "execution_count": 49,
   "metadata": {},
   "outputs": [
    {
     "name": "stdout",
     "output_type": "stream",
     "text": [
      "4\n"
     ]
    }
   ],
   "source": [
    "print('test'.__len__()) # len is just a dunder method applied to a string object."
   ]
  },
  {
   "cell_type": "code",
   "execution_count": 56,
   "metadata": {},
   "outputs": [],
   "source": [
    "class Particle:\n",
    "    #define class variables at top of the class\n",
    "    num_part = 0 \n",
    "    c = 3.0e8 #speed of light\n",
    "    \n",
    "    def __init__(self, name, mass, mass_unit, charge, vel):\n",
    "        self.name = name\n",
    "        self.mass = mass\n",
    "        self.mass_unit = mass_unit\n",
    "        self.charge = charge\n",
    "        self.vel = vel #added velocity attribute\n",
    "        self.mass_list = '{} {}'.format(mass, mass_unit)\n",
    "        \n",
    "        Particle.num_part += 1 #incriment num_part by 1\n",
    "        #Particle used rather than self, because no particular instance should have a different total number of particles\n",
    "    \n",
    "    def mass_square(self):    \n",
    "        return '{} {}^2'.format(self.mass**2, self.mass_unit) \n",
    "\n",
    "    def get_beta(self):\n",
    "        return self.vel/self.c # Also use Particle.c\n",
    "    \n",
    "    def __repr__(self):\n",
    "        #return a string which would create a Particle object\n",
    "        return 'Particle({},{},{},{},{})'.format(self.name, self.mass, self.mass_unit, self.charge, self.vel)\n",
    "    \n",
    "    def __str__(self):\n",
    "        return '{}: {} {}'.format(self.name, self.mass, self.mass_unit)\n",
    "    \n",
    "    def __add__(self, other):\n",
    "        #convert to GeV\n",
    "        if self.mass_unit == 'MeV':\n",
    "            self.mass = self.mass / 1000.0     \n",
    "        else: \n",
    "            self.mass = self.mass / 1.0\n",
    "            \n",
    "        if other.mass_unit == 'MeV':\n",
    "            other.mass = self.mass / 1000.0     \n",
    "        else: \n",
    "            other.mass = other.mass / 1.0\n",
    "            \n",
    "        return self.mass + other.mass #return in GeV\n",
    "    \n",
    "    def __len__(self):\n",
    "        return len(self.name)"
   ]
  },
  {
   "cell_type": "code",
   "execution_count": 58,
   "metadata": {},
   "outputs": [
    {
     "name": "stdout",
     "output_type": "stream",
     "text": [
      "8\n",
      "6\n"
     ]
    }
   ],
   "source": [
    "par_1 = Particle('Electron', 0.511, 'MeV', -1, 1.2e7)\n",
    "par_2 = Particle('Proton', 0.938, 'GeV', 1,1.2e6)\n",
    "\n",
    "print(len(par_1))\n",
    "print(len(par_2))"
   ]
  },
  {
   "cell_type": "code",
   "execution_count": null,
   "metadata": {},
   "outputs": [],
   "source": []
  }
 ],
 "metadata": {
  "kernelspec": {
   "display_name": "Python 3",
   "language": "python",
   "name": "python3"
  },
  "language_info": {
   "codemirror_mode": {
    "name": "ipython",
    "version": 3
   },
   "file_extension": ".py",
   "mimetype": "text/x-python",
   "name": "python",
   "nbconvert_exporter": "python",
   "pygments_lexer": "ipython3",
   "version": "3.7.6"
  }
 },
 "nbformat": 4,
 "nbformat_minor": 4
}
