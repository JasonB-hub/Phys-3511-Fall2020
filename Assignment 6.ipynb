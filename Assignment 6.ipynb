{
 "cells": [
  {
   "cell_type": "code",
   "execution_count": 36,
   "metadata": {},
   "outputs": [],
   "source": [
    "import pandas as pd\n",
    "import numpy as np\n",
    "import matplotlib.pyplot as plt\n",
    "from scipy import optimize\n",
    "from scipy.optimize import curve_fit\n",
    "import math"
   ]
  },
  {
   "cell_type": "code",
   "execution_count": 37,
   "metadata": {},
   "outputs": [
    {
     "name": "stdout",
     "output_type": "stream",
     "text": [
      "<class 'pandas.core.frame.DataFrame'>\n",
      "RangeIndex: 18885 entries, 0 to 18884\n",
      "Data columns (total 22 columns):\n",
      " #   Column        Non-Null Count  Dtype  \n",
      "---  ------        --------------  -----  \n",
      " 0   Run           18885 non-null  int64  \n",
      " 1   Event         18885 non-null  int64  \n",
      " 2   pt1           18885 non-null  float64\n",
      " 3   eta1          18885 non-null  float64\n",
      " 4   phi1          18885 non-null  float64\n",
      " 5   Q1            18885 non-null  int64  \n",
      " 6   type1         18885 non-null  object \n",
      " 7   sigmaEtaEta1  18885 non-null  float64\n",
      " 8   HoverE1       18885 non-null  float64\n",
      " 9   isoTrack1     18885 non-null  float64\n",
      " 10  isoEcal1      18885 non-null  float64\n",
      " 11  isoHcal1      18885 non-null  float64\n",
      " 12  pt2           18885 non-null  float64\n",
      " 13  eta2          18885 non-null  float64\n",
      " 14  phi2          18885 non-null  float64\n",
      " 15  Q2            18885 non-null  int64  \n",
      " 16  type2         18885 non-null  object \n",
      " 17  sigmaEtaEta2  18885 non-null  float64\n",
      " 18  HoverE2       18885 non-null  float64\n",
      " 19  isoTrack2     18885 non-null  float64\n",
      " 20  isoEcal2      18885 non-null  float64\n",
      " 21  isoHcal2      18885 non-null  float64\n",
      "dtypes: float64(16), int64(4), object(2)\n",
      "memory usage: 3.2+ MB\n"
     ]
    }
   ],
   "source": [
    "df = pd.read_csv(\"https://raw.githubusercontent.com/Scientific-Computing-at-Temple-Physics/Phys-3511-Fall2020/master/Module06/Data/Zee_Run2011A.csv\")\n",
    "df.info()"
   ]
  },
  {
   "cell_type": "code",
   "execution_count": 38,
   "metadata": {},
   "outputs": [],
   "source": [
    "#df.iloc[0:5,:]"
   ]
  },
  {
   "cell_type": "code",
   "execution_count": 60,
   "metadata": {},
   "outputs": [
    {
     "name": "stdout",
     "output_type": "stream",
     "text": [
      "          Run       Event      pt1      eta1      phi1  Q1 type1  \\\n",
      "0      163286   109060857  37.5667  2.289180  2.052600  -1    EE   \n",
      "1      163286   109275715  36.2901 -0.837253 -1.585920   1    EB   \n",
      "2      163286   109075352  25.9705 -0.697420  1.635990  -1    EB   \n",
      "3      163286   109169766  41.0075  1.461920 -0.532464   1    EB   \n",
      "4      163286   108947653  39.8985 -0.592666 -2.394720   1    EB   \n",
      "...       ...         ...      ...       ...       ...  ..   ...   \n",
      "18880  165993  1245864355  67.9728  0.591181  2.824340  -1    EB   \n",
      "18881  165993  1245110568  42.8005 -2.291330  0.779165   1    EE   \n",
      "18882  165993  1245123133  25.4359  0.137592  2.641270   1    EB   \n",
      "18883  165993  1245207259  51.1762  0.778649  2.683120  -1    EB   \n",
      "18884  165993  1245337805  28.6185  0.788226  1.231830  -1    EB   \n",
      "\n",
      "       sigmaEtaEta1   HoverE1  isoTrack1  ...      eta2      phi2  Q2  type2  \\\n",
      "0          0.025125  0.008973    0.00000  ...  1.470640 -1.163050   1     EB   \n",
      "1          0.007829  0.043751    0.00000  ... -0.489570  1.049600  -1     EB   \n",
      "2          0.009715  0.040728    6.28701  ... -2.040090  3.118750   1     EE   \n",
      "3          0.008753  0.000000    0.00000  ...  1.156060  2.478580  -1     EB   \n",
      "4          0.015261  0.000000    2.54347  ... -2.244440  0.610610  -1     EE   \n",
      "...             ...       ...        ...  ...       ...       ...  ..    ...   \n",
      "18880      0.009989  0.000000    0.00000  ...  0.566588  0.203395   1     EB   \n",
      "18881      0.023484  0.037901    0.00000  ... -1.640510 -2.741140  -1     EE   \n",
      "18882      0.010615  0.000000    0.00000  ...  1.518880 -0.962316  -1     EE   \n",
      "18883      0.009085  0.000000    4.71019  ... -0.386661 -0.451479  -1     EB   \n",
      "18884      0.013537  0.022000    9.47769  ...  2.032720 -1.883510  -1     EE   \n",
      "\n",
      "       sigmaEtaEta2   HoverE2  isoTrack2   isoEcal2   isoHcal2        minv  \n",
      "0          0.000753  0.000000   0.000000   1.019030   0.000000   89.589562  \n",
      "1          0.011246  0.000000   0.718473   1.846060   0.000000   92.252290  \n",
      "2          0.025972  0.028008  15.217000   4.533720   3.836990   67.859158  \n",
      "3          0.008590  0.000000   0.000000   2.438830   0.567555   87.604923  \n",
      "4          0.029025  0.000000  12.422900   0.453359   0.909608  101.426755  \n",
      "...             ...       ...        ...        ...        ...         ...  \n",
      "18880      0.008893  0.000000   0.000000   2.057180   0.000000   91.232354  \n",
      "18881      0.010058  0.007301   1.281670   2.016500   1.873110   95.750631  \n",
      "18882      0.017345  0.012618   1.204430   2.216630   1.233750   88.378684  \n",
      "18883      0.011314  0.106511  25.312100  12.257500  11.483000   92.069605  \n",
      "18884      0.022317  0.074542  13.149300   4.539260   3.495550   84.523801  \n",
      "\n",
      "[18885 rows x 23 columns]\n"
     ]
    }
   ],
   "source": [
    "import math\n",
    "      \n",
    "minv = (2*df.pt1*df.pt2*(np.cosh(df.eta1-df.eta2)- np.cos(df.phi1-df.phi2)))**0.5\n",
    "#minv = (2*df['pt1']*df['pt2']*(np.cosh(df['eta1']-df['eta2'])- np.cos(df['phi1']-df['phi2'])))**0.5\n",
    "df['minv']=minv\n",
    "print(df)\n"
   ]
  },
  {
   "cell_type": "code",
   "execution_count": 85,
   "metadata": {},
   "outputs": [
    {
     "data": {
      "text/plain": [
       "<matplotlib.axes._subplots.AxesSubplot at 0x7ffd794bc6d0>"
      ]
     },
     "execution_count": 85,
     "metadata": {},
     "output_type": "execute_result"
    },
    {
     "data": {
      "image/png": "[encoded data removed]",
      "text/plain": [
       "<Figure size 432x288 with 1 Axes>"
      ]
     },
     "metadata": {
      "needs_background": "light"
     },
     "output_type": "display_data"
    }
   ],
   "source": [
    "df['minv'].hist(bins = 100)"
   ]
  },
  {
   "cell_type": "code",
   "execution_count": 61,
   "metadata": {},
   "outputs": [
    {
     "data": {
      "text/plain": [
       "<matplotlib.legend.Legend at 0x7ffd78889b50>"
      ]
     },
     "execution_count": 61,
     "metadata": {},
     "output_type": "execute_result"
    },
    {
     "data": {
      "image/png": "[encoded data removed]",
      "text/plain": [
       "<Figure size 432x288 with 1 Axes>"
      ]
     },
     "metadata": {
      "needs_background": "light"
     },
     "output_type": "display_data"
    }
   ],
   "source": [
    "df['eta1'].hist(bins = 100, alpha = 0.7, label = 'eta1')\n",
    "df['eta2'].hist(bins = 100, alpha = 0.7, label = 'eta2')\n",
    "plt.legend()"
   ]
  },
  {
   "cell_type": "code",
   "execution_count": 63,
   "metadata": {},
   "outputs": [
    {
     "name": "stdout",
     "output_type": "stream",
     "text": [
      "          Run       Event      pt1     eta1      phi1  Q1 type1  sigmaEtaEta1  \\\n",
      "18     163286   110668790  47.5727 -2.21799 -0.815233   1    EE      0.047381   \n",
      "34     163286   111543719  30.2060 -2.21116 -0.568794   1    EE      0.028541   \n",
      "41     163286   111928032  28.0401  2.33037 -2.839090  -1    EE      0.022362   \n",
      "54     163297   107872385  34.8294  1.58033  0.952320   1    EE      0.020969   \n",
      "69     163297   108833939  28.8562  1.89139  2.649820   1    EE      0.016848   \n",
      "...       ...         ...      ...      ...       ...  ..   ...           ...   \n",
      "18861  165993  1244645288  43.7571 -2.29965  2.999580  -1    EE      0.021766   \n",
      "18863  165993  1244250002  27.8002 -1.53904  2.186070   1    EE      0.008698   \n",
      "18872  165993  1244204126  51.8952 -1.98757  0.947703   1    EE      0.017641   \n",
      "18875  165993  1245278225  30.5801  1.74794 -3.088930   1    EE      0.014878   \n",
      "18881  165993  1245110568  42.8005 -2.29133  0.779165   1    EE      0.023484   \n",
      "\n",
      "        HoverE1  isoTrack1  ...     eta2      phi2  Q2  type2  sigmaEtaEta2  \\\n",
      "18     0.101574   11.44980  ... -1.65760  2.205370   1     EE      0.015067   \n",
      "34     0.083570   10.36010  ... -2.07269  2.675020  -1     EE      0.023669   \n",
      "41     0.093207    1.67281  ...  2.25950  0.682708  -1     EE      0.025076   \n",
      "54     0.089095   29.41750  ...  2.20522 -2.246120   1     EE      0.021211   \n",
      "69     0.000000    1.52530  ...  2.41843 -0.540512   1     EE      0.038014   \n",
      "...         ...        ...  ...      ...       ...  ..    ...           ...   \n",
      "18861  0.012943    0.00000  ... -2.52233  0.126262   1     EE      0.029928   \n",
      "18863  0.065986    0.00000  ... -2.40776 -0.037206  -1     EE      0.028078   \n",
      "18872  0.000000    0.00000  ... -1.90825 -2.054560  -1     EE      0.016586   \n",
      "18875  0.000000    0.00000  ...  2.34251  1.002030  -1     EE      0.022687   \n",
      "18881  0.037901    0.00000  ... -1.64051 -2.741140  -1     EE      0.010058   \n",
      "\n",
      "        HoverE2 isoTrack2   isoEcal2  isoHcal2        minv  \n",
      "18     0.000000  16.22110  17.577900  6.944010  108.762459  \n",
      "34     0.000000  13.42790   2.798580  5.387030   63.303419  \n",
      "41     0.000000   0.00000   1.782290  2.103800   63.464241  \n",
      "54     0.050607  13.74550   0.899345  7.974280  107.488939  \n",
      "69     0.084379   0.00000   0.938821  3.900330   66.368034  \n",
      "...         ...       ...        ...       ...         ...  \n",
      "18861  0.000000   0.00000   0.263447  1.809650   92.493905  \n",
      "18863  0.000000   0.00000   0.481085  0.334517   86.479053  \n",
      "18872  0.011688   1.32125   1.682330  1.102710   91.914141  \n",
      "18875  0.000000   0.00000   0.266132  0.000000   87.267772  \n",
      "18881  0.007301   1.28167   2.016500  1.873110   95.750631  \n",
      "\n",
      "[2390 rows x 23 columns]\n"
     ]
    }
   ],
   "source": [
    "endcap = df.loc[(df['type1'] == 'EE') & (df['type2'] == 'EE')]\n",
    "print(endcap)"
   ]
  },
  {
   "cell_type": "code",
   "execution_count": 64,
   "metadata": {},
   "outputs": [
    {
     "name": "stdout",
     "output_type": "stream",
     "text": [
      "          Run       Event      pt1      eta1      phi1  Q1 type1  \\\n",
      "1      163286   109275715  36.2901 -0.837253 -1.585920   1    EB   \n",
      "3      163286   109169766  41.0075  1.461920 -0.532464   1    EB   \n",
      "8      163286   110268001  32.3642 -0.534036 -2.671810  -1    EB   \n",
      "9      163286   110085994  31.4123 -0.216362  1.295420  -1    EB   \n",
      "10     163286   110297282  27.4283  0.555189 -1.477450  -1    EB   \n",
      "...       ...         ...      ...       ...       ...  ..   ...   \n",
      "18877  165993  1245482967  47.4890 -0.577628 -2.085860  -1    EB   \n",
      "18878  165993  1245947586  26.2686  1.378270  0.130022   1    EB   \n",
      "18879  165993  1245752052  39.0030  0.527312 -1.577130   1    EB   \n",
      "18880  165993  1245864355  67.9728  0.591181  2.824340  -1    EB   \n",
      "18883  165993  1245207259  51.1762  0.778649  2.683120  -1    EB   \n",
      "\n",
      "       sigmaEtaEta1   HoverE1  isoTrack1  ...      eta2      phi2  Q2  type2  \\\n",
      "1          0.007829  0.043751   0.000000  ... -0.489570  1.049600  -1     EB   \n",
      "3          0.008753  0.000000   0.000000  ...  1.156060  2.478580  -1     EB   \n",
      "8          0.010885  0.084310   4.735460  ...  1.390990  0.074385   1     EB   \n",
      "9          0.011808  0.109559  18.832500  ... -1.275780 -2.123470  -1     EB   \n",
      "10         0.011236  0.024642   2.413560  ...  1.345060  1.839490   1     EB   \n",
      "...             ...       ...        ...  ...       ...       ...  ..    ...   \n",
      "18877      0.009257  0.000000   0.889618  ... -0.829896  1.194170   1     EB   \n",
      "18878      0.013638  0.133119   2.421380  ... -0.596051  2.936470  -1     EB   \n",
      "18879      0.008435  0.000000   0.000000  ... -0.601777  1.391160  -1     EB   \n",
      "18880      0.009989  0.000000   0.000000  ...  0.566588  0.203395   1     EB   \n",
      "18883      0.009085  0.000000   4.710190  ... -0.386661 -0.451479  -1     EB   \n",
      "\n",
      "       sigmaEtaEta2   HoverE2  isoTrack2   isoEcal2   isoHcal2        minv  \n",
      "1          0.011246  0.000000   0.718473   1.846060   0.000000   92.252290  \n",
      "3          0.008590  0.000000   0.000000   2.438830   0.567555   87.604923  \n",
      "8          0.018003  0.000000  12.425400   4.161900   7.455390  107.871480  \n",
      "9          0.008661  0.000000  20.437700   6.422420   2.400630   82.870251  \n",
      "10         0.008359  0.039660  16.518100   6.173470   4.026230   63.908132  \n",
      "...             ...       ...        ...        ...        ...         ...  \n",
      "18877      0.008472  0.000000   1.834520   0.812211   0.000000  106.378991  \n",
      "18878      0.013086  0.029424  10.131200  12.026200   6.510080   98.051249  \n",
      "18879      0.009515  0.000000   0.000000   0.679768   0.000000   92.319295  \n",
      "18880      0.008893  0.000000   0.000000   2.057180   0.000000   91.232354  \n",
      "18883      0.011314  0.106511  25.312100  12.257500  11.483000   92.069605  \n",
      "\n",
      "[9466 rows x 23 columns]\n"
     ]
    }
   ],
   "source": [
    "barrel = df.loc[(df['type1'] == 'EB') & (df['type2'] == 'EB')]\n",
    "print(barrel)"
   ]
  },
  {
   "cell_type": "code",
   "execution_count": 59,
   "metadata": {},
   "outputs": [
    {
     "data": {
      "text/plain": [
       "<matplotlib.legend.Legend at 0x7ffd77fb4970>"
      ]
     },
     "execution_count": 59,
     "metadata": {},
     "output_type": "execute_result"
    },
    {
     "data": {
      "image/png": "[encoded data removed]",
      "text/plain": [
       "<Figure size 432x288 with 2 Axes>"
      ]
     },
     "metadata": {
      "needs_background": "light"
     },
     "output_type": "display_data"
    }
   ],
   "source": [
    "hist1 = plt.subplot(1, 2, 1)\n",
    "barrel['eta1'].hist(bins = 100, alpha = 0.7, label = 'barrel_eta1')\n",
    "endcap['eta1'].hist(bins = 100, alpha = 0.7, label = 'endcap_eta1')\n",
    "plt.legend()\n",
    "hist2 = plt.subplot(1, 2, 2)\n",
    "barrel['eta2'].hist(bins = 100, alpha = 0.7, label = 'barrel_eta2')\n",
    "endcap['eta2'].hist(bins = 100, alpha = 0.7, label = 'endcap_eta2')\n",
    "plt.legend()"
   ]
  },
  {
   "cell_type": "code",
   "execution_count": null,
   "metadata": {},
   "outputs": [],
   "source": [
    "#The histograms plotted above explain why the eta distributions are different and that this difference could be attributed to the tow different detectors\n",
    "#The rough ranges ranges covered are from -2 to 2"
   ]
  },
  {
   "cell_type": "code",
   "execution_count": 65,
   "metadata": {},
   "outputs": [
    {
     "data": {
      "text/plain": [
       "<matplotlib.legend.Legend at 0x7ffd788899a0>"
      ]
     },
     "execution_count": 65,
     "metadata": {},
     "output_type": "execute_result"
    },
    {
     "data": {
      "image/png": "[encoded data removed]",
      "text/plain": [
       "<Figure size 432x288 with 1 Axes>"
      ]
     },
     "metadata": {
      "needs_background": "light"
     },
     "output_type": "display_data"
    }
   ],
   "source": [
    "barrel['minv'].hist(bins = 100, alpha = 0.7, label = 'barrel_minv')\n",
    "endcap['minv'].hist(bins = 100, alpha = 0.7, label = 'endcap_minv')\n",
    "plt.legend()"
   ]
  },
  {
   "cell_type": "code",
   "execution_count": 77,
   "metadata": {},
   "outputs": [
    {
     "data": {
      "text/plain": [
       "11.489115344078318"
      ]
     },
     "execution_count": 77,
     "metadata": {},
     "output_type": "execute_result"
    }
   ],
   "source": [
    "std1 = barrel[\"minv\"]\n",
    "std1.std()"
   ]
  },
  {
   "cell_type": "code",
   "execution_count": 78,
   "metadata": {},
   "outputs": [
    {
     "data": {
      "text/plain": [
       "12.229202324653295"
      ]
     },
     "execution_count": 78,
     "metadata": {},
     "output_type": "execute_result"
    }
   ],
   "source": [
    "std2 = endcap[\"minv\"]\n",
    "std2.std()"
   ]
  },
  {
   "cell_type": "code",
   "execution_count": null,
   "metadata": {},
   "outputs": [],
   "source": [
    "#The barrel detector has a better resolution as it has a narrower peak\n",
    "#Histograms plotted support this conclusion"
   ]
  },
  {
   "cell_type": "code",
   "execution_count": 80,
   "metadata": {},
   "outputs": [
    {
     "data": {
      "text/html": [
       "<div>\n",
       "<style scoped>\n",
       "    .dataframe tbody tr th:only-of-type {\n",
       "        vertical-align: middle;\n",
       "    }\n",
       "\n",
       "    .dataframe tbody tr th {\n",
       "        vertical-align: top;\n",
       "    }\n",
       "\n",
       "    .dataframe thead th {\n",
       "        text-align: right;\n",
       "    }\n",
       "</style>\n",
       "<table border=\"1\" class=\"dataframe\">\n",
       "  <thead>\n",
       "    <tr style=\"text-align: right;\">\n",
       "      <th></th>\n",
       "      <th>pt1</th>\n",
       "      <th>eta1</th>\n",
       "      <th>phi1</th>\n",
       "      <th>pt2</th>\n",
       "      <th>eta2</th>\n",
       "      <th>phi2</th>\n",
       "      <th>minv</th>\n",
       "    </tr>\n",
       "  </thead>\n",
       "  <tbody>\n",
       "    <tr>\n",
       "      <th>0</th>\n",
       "      <td>37.5667</td>\n",
       "      <td>2.289180</td>\n",
       "      <td>2.052600</td>\n",
       "      <td>45.4315</td>\n",
       "      <td>1.470640</td>\n",
       "      <td>-1.163050</td>\n",
       "      <td>89.589562</td>\n",
       "    </tr>\n",
       "    <tr>\n",
       "      <th>1</th>\n",
       "      <td>36.2901</td>\n",
       "      <td>-0.837253</td>\n",
       "      <td>-1.585920</td>\n",
       "      <td>60.5754</td>\n",
       "      <td>-0.489570</td>\n",
       "      <td>1.049600</td>\n",
       "      <td>92.252290</td>\n",
       "    </tr>\n",
       "    <tr>\n",
       "      <th>2</th>\n",
       "      <td>25.9705</td>\n",
       "      <td>-0.697420</td>\n",
       "      <td>1.635990</td>\n",
       "      <td>45.2954</td>\n",
       "      <td>-2.040090</td>\n",
       "      <td>3.118750</td>\n",
       "      <td>67.859158</td>\n",
       "    </tr>\n",
       "    <tr>\n",
       "      <th>3</th>\n",
       "      <td>41.0075</td>\n",
       "      <td>1.461920</td>\n",
       "      <td>-0.532464</td>\n",
       "      <td>45.9013</td>\n",
       "      <td>1.156060</td>\n",
       "      <td>2.478580</td>\n",
       "      <td>87.604923</td>\n",
       "    </tr>\n",
       "    <tr>\n",
       "      <th>4</th>\n",
       "      <td>39.8985</td>\n",
       "      <td>-0.592666</td>\n",
       "      <td>-2.394720</td>\n",
       "      <td>34.8931</td>\n",
       "      <td>-2.244440</td>\n",
       "      <td>0.610610</td>\n",
       "      <td>101.426755</td>\n",
       "    </tr>\n",
       "    <tr>\n",
       "      <th>...</th>\n",
       "      <td>...</td>\n",
       "      <td>...</td>\n",
       "      <td>...</td>\n",
       "      <td>...</td>\n",
       "      <td>...</td>\n",
       "      <td>...</td>\n",
       "      <td>...</td>\n",
       "    </tr>\n",
       "    <tr>\n",
       "      <th>18880</th>\n",
       "      <td>67.9728</td>\n",
       "      <td>0.591181</td>\n",
       "      <td>2.824340</td>\n",
       "      <td>32.7795</td>\n",
       "      <td>0.566588</td>\n",
       "      <td>0.203395</td>\n",
       "      <td>91.232354</td>\n",
       "    </tr>\n",
       "    <tr>\n",
       "      <th>18881</th>\n",
       "      <td>42.8005</td>\n",
       "      <td>-2.291330</td>\n",
       "      <td>0.779165</td>\n",
       "      <td>49.8503</td>\n",
       "      <td>-1.640510</td>\n",
       "      <td>-2.741140</td>\n",
       "      <td>95.750631</td>\n",
       "    </tr>\n",
       "    <tr>\n",
       "      <th>18882</th>\n",
       "      <td>25.4359</td>\n",
       "      <td>0.137592</td>\n",
       "      <td>2.641270</td>\n",
       "      <td>50.9959</td>\n",
       "      <td>1.518880</td>\n",
       "      <td>-0.962316</td>\n",
       "      <td>88.378684</td>\n",
       "    </tr>\n",
       "    <tr>\n",
       "      <th>18883</th>\n",
       "      <td>51.1762</td>\n",
       "      <td>0.778649</td>\n",
       "      <td>2.683120</td>\n",
       "      <td>30.0143</td>\n",
       "      <td>-0.386661</td>\n",
       "      <td>-0.451479</td>\n",
       "      <td>92.069605</td>\n",
       "    </tr>\n",
       "    <tr>\n",
       "      <th>18884</th>\n",
       "      <td>28.6185</td>\n",
       "      <td>0.788226</td>\n",
       "      <td>1.231830</td>\n",
       "      <td>43.3507</td>\n",
       "      <td>2.032720</td>\n",
       "      <td>-1.883510</td>\n",
       "      <td>84.523801</td>\n",
       "    </tr>\n",
       "  </tbody>\n",
       "</table>\n",
       "<p>18885 rows × 7 columns</p>\n",
       "</div>"
      ],
      "text/plain": [
       "           pt1      eta1      phi1      pt2      eta2      phi2        minv\n",
       "0      37.5667  2.289180  2.052600  45.4315  1.470640 -1.163050   89.589562\n",
       "1      36.2901 -0.837253 -1.585920  60.5754 -0.489570  1.049600   92.252290\n",
       "2      25.9705 -0.697420  1.635990  45.2954 -2.040090  3.118750   67.859158\n",
       "3      41.0075  1.461920 -0.532464  45.9013  1.156060  2.478580   87.604923\n",
       "4      39.8985 -0.592666 -2.394720  34.8931 -2.244440  0.610610  101.426755\n",
       "...        ...       ...       ...      ...       ...       ...         ...\n",
       "18880  67.9728  0.591181  2.824340  32.7795  0.566588  0.203395   91.232354\n",
       "18881  42.8005 -2.291330  0.779165  49.8503 -1.640510 -2.741140   95.750631\n",
       "18882  25.4359  0.137592  2.641270  50.9959  1.518880 -0.962316   88.378684\n",
       "18883  51.1762  0.778649  2.683120  30.0143 -0.386661 -0.451479   92.069605\n",
       "18884  28.6185  0.788226  1.231830  43.3507  2.032720 -1.883510   84.523801\n",
       "\n",
       "[18885 rows x 7 columns]"
      ]
     },
     "execution_count": 80,
     "metadata": {},
     "output_type": "execute_result"
    }
   ],
   "source": [
    "df2 = df.copy()\n",
    "df2.drop(['Run'],axis=1,inplace=True)\n",
    "df2.drop(['Event'],axis=1,inplace=True)\n",
    "df2.drop(['Q1'],axis=1,inplace=True)\n",
    "df2.drop(['type1'],axis=1,inplace=True)\n",
    "df2.drop(['sigmaEtaEta1'],axis=1,inplace=True)\n",
    "df2.drop(['HoverE1'],axis=1,inplace=True)\n",
    "df2.drop(['isoTrack1'],axis=1,inplace=True)\n",
    "df2.drop(['isoEcal1'],axis=1,inplace=True)\n",
    "df2.drop(['isoHcal1'],axis=1,inplace=True)\n",
    "df2.drop(['Q2'],axis=1,inplace=True)\n",
    "df2.drop(['type2'],axis=1,inplace=True)\n",
    "df2.drop(['sigmaEtaEta2','HoverE2','isoTrack2','isoEcal2','isoHcal2'],axis=1,inplace=True)\n",
    "df2"
   ]
  },
  {
   "cell_type": "code",
   "execution_count": 81,
   "metadata": {},
   "outputs": [
    {
     "data": {
      "text/html": [
       "<div>\n",
       "<style scoped>\n",
       "    .dataframe tbody tr th:only-of-type {\n",
       "        vertical-align: middle;\n",
       "    }\n",
       "\n",
       "    .dataframe tbody tr th {\n",
       "        vertical-align: top;\n",
       "    }\n",
       "\n",
       "    .dataframe thead th {\n",
       "        text-align: right;\n",
       "    }\n",
       "</style>\n",
       "<table border=\"1\" class=\"dataframe\">\n",
       "  <thead>\n",
       "    <tr style=\"text-align: right;\">\n",
       "      <th></th>\n",
       "      <th>pt1</th>\n",
       "      <th>eta1</th>\n",
       "      <th>phi1</th>\n",
       "      <th>pt2</th>\n",
       "      <th>eta2</th>\n",
       "      <th>phi2</th>\n",
       "      <th>minv</th>\n",
       "    </tr>\n",
       "  </thead>\n",
       "  <tbody>\n",
       "    <tr>\n",
       "      <th>pt1</th>\n",
       "      <td>1.000000</td>\n",
       "      <td>-0.005495</td>\n",
       "      <td>-0.000376</td>\n",
       "      <td>-0.068503</td>\n",
       "      <td>-0.009661</td>\n",
       "      <td>-0.000184</td>\n",
       "      <td>0.279797</td>\n",
       "    </tr>\n",
       "    <tr>\n",
       "      <th>eta1</th>\n",
       "      <td>-0.005495</td>\n",
       "      <td>1.000000</td>\n",
       "      <td>0.015935</td>\n",
       "      <td>0.009975</td>\n",
       "      <td>0.665429</td>\n",
       "      <td>-0.022004</td>\n",
       "      <td>0.010426</td>\n",
       "    </tr>\n",
       "    <tr>\n",
       "      <th>phi1</th>\n",
       "      <td>-0.000376</td>\n",
       "      <td>0.015935</td>\n",
       "      <td>1.000000</td>\n",
       "      <td>0.000893</td>\n",
       "      <td>0.007323</td>\n",
       "      <td>-0.460515</td>\n",
       "      <td>-0.000727</td>\n",
       "    </tr>\n",
       "    <tr>\n",
       "      <th>pt2</th>\n",
       "      <td>-0.068503</td>\n",
       "      <td>0.009975</td>\n",
       "      <td>0.000893</td>\n",
       "      <td>1.000000</td>\n",
       "      <td>0.010027</td>\n",
       "      <td>-0.000399</td>\n",
       "      <td>0.342749</td>\n",
       "    </tr>\n",
       "    <tr>\n",
       "      <th>eta2</th>\n",
       "      <td>-0.009661</td>\n",
       "      <td>0.665429</td>\n",
       "      <td>0.007323</td>\n",
       "      <td>0.010027</td>\n",
       "      <td>1.000000</td>\n",
       "      <td>-0.023955</td>\n",
       "      <td>0.002616</td>\n",
       "    </tr>\n",
       "    <tr>\n",
       "      <th>phi2</th>\n",
       "      <td>-0.000184</td>\n",
       "      <td>-0.022004</td>\n",
       "      <td>-0.460515</td>\n",
       "      <td>-0.000399</td>\n",
       "      <td>-0.023955</td>\n",
       "      <td>1.000000</td>\n",
       "      <td>-0.015139</td>\n",
       "    </tr>\n",
       "    <tr>\n",
       "      <th>minv</th>\n",
       "      <td>0.279797</td>\n",
       "      <td>0.010426</td>\n",
       "      <td>-0.000727</td>\n",
       "      <td>0.342749</td>\n",
       "      <td>0.002616</td>\n",
       "      <td>-0.015139</td>\n",
       "      <td>1.000000</td>\n",
       "    </tr>\n",
       "  </tbody>\n",
       "</table>\n",
       "</div>"
      ],
      "text/plain": [
       "           pt1      eta1      phi1       pt2      eta2      phi2      minv\n",
       "pt1   1.000000 -0.005495 -0.000376 -0.068503 -0.009661 -0.000184  0.279797\n",
       "eta1 -0.005495  1.000000  0.015935  0.009975  0.665429 -0.022004  0.010426\n",
       "phi1 -0.000376  0.015935  1.000000  0.000893  0.007323 -0.460515 -0.000727\n",
       "pt2  -0.068503  0.009975  0.000893  1.000000  0.010027 -0.000399  0.342749\n",
       "eta2 -0.009661  0.665429  0.007323  0.010027  1.000000 -0.023955  0.002616\n",
       "phi2 -0.000184 -0.022004 -0.460515 -0.000399 -0.023955  1.000000 -0.015139\n",
       "minv  0.279797  0.010426 -0.000727  0.342749  0.002616 -0.015139  1.000000"
      ]
     },
     "execution_count": 81,
     "metadata": {},
     "output_type": "execute_result"
    }
   ],
   "source": [
    "df2.corr()"
   ]
  },
  {
   "cell_type": "code",
   "execution_count": null,
   "metadata": {},
   "outputs": [],
   "source": [
    "#eta1 and eta2 have a strong correlation"
   ]
  }
 ],
 "metadata": {
  "kernelspec": {
   "display_name": "Python 3",
   "language": "python",
   "name": "python3"
  },
  "language_info": {
   "codemirror_mode": {
    "name": "ipython",
    "version": 3
   },
   "file_extension": ".py",
   "mimetype": "text/x-python",
   "name": "python",
   "nbconvert_exporter": "python",
   "pygments_lexer": "ipython3",
   "version": "3.8.3"
  }
 },
 "nbformat": 4,
 "nbformat_minor": 4
}
