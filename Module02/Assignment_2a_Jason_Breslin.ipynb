{
 "cells": [
  {
   "cell_type": "markdown",
   "metadata": {},
   "source": [
    "# Assignment 2a Due\n",
    "\n",
    "In this assigment you will explore and become familiar with writing and using algorithms to numerically approxomate definite integrals.\n",
    "\n",
    "Assignment Overview:\n",
    "* Impliment your own midpoint, trapazoid, and Simpson's rule integration algorithms\n",
    "* Use those to solve a definite integral\n",
    "* Compare your algorithms to those from scipy\n",
    "* Compare all approximate solutions to the exact solutions\n"
   ]
  },
  {
   "cell_type": "markdown",
   "metadata": {},
   "source": [
    "You can import only the following packages: numpy, math, scipy, matplotlib.pyplot"
   ]
  },
  {
   "cell_type": "code",
   "execution_count": 1,
   "metadata": {},
   "outputs": [],
   "source": [
    "#your import cell\n",
    "import numpy as np\n",
    "import math as m\n",
    "import scipy as sc\n",
    "from scipy import integrate\n",
    "import matplotlib.pyplot as plt"
   ]
  },
  {
   "cell_type": "markdown",
   "metadata": {},
   "source": [
    "Now we can define our integration algorithms"
   ]
  },
  {
   "cell_type": "code",
   "execution_count": 2,
   "metadata": {},
   "outputs": [],
   "source": [
    "#define midpoint rule\n",
    "def midpoint(f, n: int, a: float, b: float):\n",
    "    '''Calculates area under curve with Riemann Sum Approximation through the midpoint rule.'''\n",
    "    if a >= b:\n",
    "        print(\"b must be larger than a\")\n",
    "    else:\n",
    "        dx = float((b - a) / n)\n",
    "        s = a + .5 * dx #First midpoint\n",
    "        area = 0\n",
    "        for i in range(n):\n",
    "            area += dx * f(s + i * dx)\n",
    "        return area"
   ]
  },
  {
   "cell_type": "code",
   "execution_count": 3,
   "metadata": {},
   "outputs": [],
   "source": [
    "#define trapazoidal rule\n",
    "def trapezoid(f, n: int, a: float, b: float):\n",
    "    '''Calculates area under curve with Riemann Sum Approximation through the trapazoidal rule.'''\n",
    "    if a >= b:\n",
    "        print(\"b must be larger than a\")\n",
    "    else:\n",
    "        dx = float((b - a) / n)\n",
    "        area = f(a) + f(b)\n",
    "        for i in range(1,n-1):\n",
    "            area += 2 * f(a + i * dx)\n",
    "        area *= (dx / 2)\n",
    "        return area"
   ]
  },
  {
   "cell_type": "code",
   "execution_count": 4,
   "metadata": {},
   "outputs": [],
   "source": [
    "#define simpson's rule\n",
    "def simpson(f, n: int, a: float, b: float):\n",
    "    '''Calculates area under curve with Riemann Sum Approximation through simpson's rule.'''\n",
    "    if a >= b or n % 2 != 0:\n",
    "        print(\"b must be larger than a and n must be even\")\n",
    "    else:\n",
    "        dx = float((b - a) / n)\n",
    "        area = 0\n",
    "        for i in range(n):\n",
    "            if i == 0 or i == n:\n",
    "                area += f(a + i * dx)\n",
    "            elif i % 2 != 0:\n",
    "                area += 4 * f(a + i * dx)\n",
    "            elif i % 2 == 0:\n",
    "                area += 2 * f(a + i * dx)\n",
    "        area *= (dx / 3)\n",
    "        return area"
   ]
  },
  {
   "cell_type": "markdown",
   "metadata": {},
   "source": [
    "# Question \n",
    "Sanity checking your code is very important. How can you check that your functions are working properly?"
   ]
  },
  {
   "cell_type": "markdown",
   "metadata": {},
   "source": []
  },
  {
   "cell_type": "markdown",
   "metadata": {},
   "source": [
    "For this notebook assigment we would like to solve the integral\\\n",
    "$\\int_{a}^{b} \\frac{2}{(2^2 + x^2)^{3/2}}dx$"
   ]
  },
  {
   "cell_type": "markdown",
   "metadata": {},
   "source": [
    "# Question\n",
    "Have you seen an integral like this before in physics? From where?"
   ]
  },
  {
   "cell_type": "markdown",
   "metadata": {},
   "source": []
  },
  {
   "cell_type": "markdown",
   "metadata": {},
   "source": [
    "Solve the above integral using the numerical integrations that you wrote. When defining the function we will integrate over do so using python's **lambda** function.\n",
    "\n",
    "For the integration take $a = 0,\\; b = 2,\\;$ and we will split it up into 6 partitions."
   ]
  },
  {
   "cell_type": "markdown",
   "metadata": {},
   "source": [
    "# Question\n",
    "What is the exact solution?"
   ]
  },
  {
   "cell_type": "code",
   "execution_count": 5,
   "metadata": {},
   "outputs": [],
   "source": [
    "#exact solution to the integral\n",
    "exact_solution = .3535533906"
   ]
  },
  {
   "cell_type": "code",
   "execution_count": 6,
   "metadata": {},
   "outputs": [],
   "source": [
    "#solve the integral using your integration functions\n",
    "my_mid = midpoint(lambda x: 2 / ((2**2 + x**2)**1.5), 6, 0, 2)\n",
    "my_trap = trapezoid(lambda x: 2 / ((2**2 + x**2)**1.5), 6, 0, 2)\n",
    "my_simp = simpson(lambda x: 2 / ((2**2 + x**2)**1.5), 6, 0, 2)"
   ]
  },
  {
   "cell_type": "markdown",
   "metadata": {},
   "source": [
    "Use the trapz and simps methods from scipy's integration library to solve the integral.\n",
    "\n",
    "Note: Shit+tab at the end of a function in jupyter notebook reveals lots of information about the function."
   ]
  },
  {
   "cell_type": "code",
   "execution_count": 7,
   "metadata": {},
   "outputs": [
    {
     "ename": "NameError",
     "evalue": "name 'x' is not defined",
     "output_type": "error",
     "traceback": [
      "\u001b[0;31m---------------------------------------------------------------------------\u001b[0m",
      "\u001b[0;31mNameError\u001b[0m                                 Traceback (most recent call last)",
      "\u001b[0;32m<ipython-input-7-d841f1eb9a11>\u001b[0m in \u001b[0;36m<module>\u001b[0;34m\u001b[0m\n\u001b[1;32m      1\u001b[0m \u001b[0;31m#scipy integration\u001b[0m\u001b[0;34m\u001b[0m\u001b[0;34m\u001b[0m\u001b[0;34m\u001b[0m\u001b[0m\n\u001b[0;32m----> 2\u001b[0;31m \u001b[0mscipy_trap\u001b[0m \u001b[0;34m=\u001b[0m \u001b[0msc\u001b[0m\u001b[0;34m.\u001b[0m\u001b[0mtrapz\u001b[0m\u001b[0;34m(\u001b[0m\u001b[0;32mlambda\u001b[0m \u001b[0mx\u001b[0m\u001b[0;34m:\u001b[0m \u001b[0;36m2\u001b[0m \u001b[0;34m/\u001b[0m \u001b[0;34m(\u001b[0m\u001b[0;34m(\u001b[0m\u001b[0;36m2\u001b[0m\u001b[0;34m**\u001b[0m\u001b[0;36m2\u001b[0m \u001b[0;34m+\u001b[0m \u001b[0mx\u001b[0m\u001b[0;34m**\u001b[0m\u001b[0;36m2\u001b[0m\u001b[0;34m)\u001b[0m\u001b[0;34m**\u001b[0m\u001b[0;36m1.5\u001b[0m\u001b[0;34m)\u001b[0m\u001b[0;34m,\u001b[0m \u001b[0mx\u001b[0m\u001b[0;34m,\u001b[0m \u001b[0;36m1\u001b[0m\u001b[0;34m/\u001b[0m\u001b[0;36m3\u001b[0m\u001b[0;34m)\u001b[0m\u001b[0;34m\u001b[0m\u001b[0;34m\u001b[0m\u001b[0m\n\u001b[0m\u001b[1;32m      3\u001b[0m \u001b[0mscipy_simp\u001b[0m \u001b[0;34m=\u001b[0m \u001b[0msc\u001b[0m\u001b[0;34m.\u001b[0m\u001b[0msimps\u001b[0m\u001b[0;34m(\u001b[0m\u001b[0;32mlambda\u001b[0m \u001b[0mx\u001b[0m\u001b[0;34m:\u001b[0m \u001b[0;36m2\u001b[0m \u001b[0;34m/\u001b[0m \u001b[0;34m(\u001b[0m\u001b[0;34m(\u001b[0m\u001b[0;36m2\u001b[0m\u001b[0;34m**\u001b[0m\u001b[0;36m2\u001b[0m \u001b[0;34m+\u001b[0m \u001b[0mx\u001b[0m\u001b[0;34m**\u001b[0m\u001b[0;36m2\u001b[0m\u001b[0;34m)\u001b[0m\u001b[0;34m**\u001b[0m\u001b[0;36m1.5\u001b[0m\u001b[0;34m)\u001b[0m\u001b[0;34m,\u001b[0m \u001b[0mx\u001b[0m\u001b[0;34m,\u001b[0m \u001b[0;36m1\u001b[0m\u001b[0;34m/\u001b[0m\u001b[0;36m3\u001b[0m\u001b[0;34m)\u001b[0m\u001b[0;34m\u001b[0m\u001b[0;34m\u001b[0m\u001b[0m\n",
      "\u001b[0;31mNameError\u001b[0m: name 'x' is not defined"
     ]
    }
   ],
   "source": [
    "#scipy integration\n",
    "scipy_trap = sc.trapz(lambda x: 2 / ((2**2 + x**2)**1.5), x, 1/3)\n",
    "scipy_simp = sc.simps(lambda x: 2 / ((2**2 + x**2)**1.5), x, 1/3)"
   ]
  },
  {
   "cell_type": "markdown",
   "metadata": {},
   "source": [
    "# Question\n",
    "How do scipy integrals compare to yours? Support your answer. "
   ]
  },
  {
   "cell_type": "markdown",
   "metadata": {},
   "source": []
  },
  {
   "cell_type": "code",
   "execution_count": null,
   "metadata": {},
   "outputs": [],
   "source": [
    "#print the numerical values\n",
    "print(\"My trapazoidal rule: {0}\\nSciPy's trapazoidal rule: {1}\\n\\nMy Simpson's rule: {2}\\nSciPy's Simpson's rule: {3}\".format(my_trap,scipy_trap,my_simp,scipy+simp))"
   ]
  },
  {
   "cell_type": "markdown",
   "metadata": {},
   "source": [
    "Numerically compare your midpoint, trapazoid, and Simpson method results to the exact value by calculating the quantity (approx - exact) / exact for each method. "
   ]
  },
  {
   "cell_type": "code",
   "execution_count": null,
   "metadata": {},
   "outputs": [],
   "source": [
    "#numerical comparisons\n",
    "def per_diff(approx: float, exact: float):\n",
    "    '''Calculates the percent difference between two values'''\n",
    "    answer = ((approx - exact) / exact) * 100\n",
    "    return answer\n",
    "print(\"Midpoint: {}%\".format(per_diff(my_mid, exact_solution)))\n",
    "print(\"Trapezoid: {}%\".format(per_diff(my_trap, exact_solution)))\n",
    "print(\"Simpson: {}%\".format(per_diff(my_simp, exact_solution)))"
   ]
  },
  {
   "cell_type": "markdown",
   "metadata": {},
   "source": [
    "# Question\n",
    "Which method provides the best approximation to the exact solution?"
   ]
  },
  {
   "cell_type": "markdown",
   "metadata": {},
   "source": []
  },
  {
   "cell_type": "markdown",
   "metadata": {},
   "source": [
    "It is often useful to represent the data graphically. Make a scatter plot showing the percent difference $100 \\times \\frac{approx. - exact}{exact}$ vs. integration method. Integration method on your x-axis should be strings such as *midpoint, trapazoid, and Simpson*. You should also draw on your plot a line at *y = 0*, which will help guide the eye where the perfect approximation (the exact solution) would sit. "
   ]
  },
  {
   "cell_type": "code",
   "execution_count": null,
   "metadata": {},
   "outputs": [],
   "source": [
    "#plot\n",
    "percent_differences = np.array([per_diff(my_mid,exact_solution),per_diff(my_trap,exact_solution),per_diff(my_simp,exact_solution)])\n",
    "plt.figure()\n",
    "plt.title(\"Percent Differences of Integration Methods to Exact Solution\")\n",
    "plt.ylabel(\"Percent (%)\")\n",
    "plt.bar(np.array([\"Midpoint\", \"Trapezoid\", \"Simpson\"]), percent_differences)\n",
    "plt.plot(np.array([-.5,2.5]),np.array([0,0]),color='black')"
   ]
  },
  {
   "cell_type": "markdown",
   "metadata": {},
   "source": [
    "Using the scipy *quad* integration method, approximate the following integral\n",
    "\n",
    "$$\\int_{-\\infty}^{\\infty} e^{-x^{2}} dx$$\n",
    "\n",
    "Hint: Reference <a href=\"https://numpy.org/\">numpy</a> and see what it has to offer in terms of functions and *special* values"
   ]
  },
  {
   "cell_type": "code",
   "execution_count": null,
   "metadata": {},
   "outputs": [],
   "source": [
    "#solve integral above\n",
    "f2 = lambda x: m.e**(-1 * x**2)\n",
    "quad_solution = integrate.quad(f2,-m.inf,m.inf)\n",
    "quad_solution[1]"
   ]
  },
  {
   "cell_type": "markdown",
   "metadata": {},
   "source": [
    "# Question\n",
    "If you square your solution, does the resulting number have any special meaning?"
   ]
  },
  {
   "cell_type": "markdown",
   "metadata": {},
   "source": []
  }
 ],
 "metadata": {
  "kernelspec": {
   "display_name": "Python 3",
   "language": "python",
   "name": "python3"
  },
  "language_info": {
   "codemirror_mode": {
    "name": "ipython",
    "version": 3
   },
   "file_extension": ".py",
   "mimetype": "text/x-python",
   "name": "python",
   "nbconvert_exporter": "python",
   "pygments_lexer": "ipython3",
   "version": "3.7.4"
  }
 },
 "nbformat": 4,
 "nbformat_minor": 4
}
