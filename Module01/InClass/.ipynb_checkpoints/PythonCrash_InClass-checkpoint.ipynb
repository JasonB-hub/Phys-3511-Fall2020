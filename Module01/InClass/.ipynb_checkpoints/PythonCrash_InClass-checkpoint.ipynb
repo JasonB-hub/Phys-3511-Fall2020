{
 "cells": [
  {
   "cell_type": "markdown",
   "metadata": {},
   "source": [
    "# Python Crash Course In Class Notebook (Module 01)"
   ]
  },
  {
   "cell_type": "markdown",
   "metadata": {},
   "source": [
    "## Problem 1\n",
    "Write a basic function that counts the number of times the word 'you' appears in the quote text below from Richard Feynman. Make sure to account for capitalization."
   ]
  },
  {
   "cell_type": "code",
   "execution_count": 1,
   "metadata": {},
   "outputs": [
    {
     "name": "stdout",
     "output_type": "stream",
     "text": [
      "What I am going to tell you about is what we teach our physics students in the third or fourth year of graduate school... It is my task to convince you not to turn away because you don't understand it. You see my physics students don't understand it... That is because I don't understand it. Nobody does.\n"
     ]
    }
   ],
   "source": [
    "text = \"What I am going to tell you about is what we teach our physics students in the third or fourth year of graduate school... It is my task to convince you not to turn away because you don't understand it. You see my physics students don't understand it... That is because I don't understand it. Nobody does.\"\n",
    "print(text)"
   ]
  },
  {
   "cell_type": "code",
   "execution_count": 5,
   "metadata": {},
   "outputs": [
    {
     "name": "stdout",
     "output_type": "stream",
     "text": [
      "4\n"
     ]
    }
   ],
   "source": [
    "print(text.count(\"You\") + text.count(\"you\"))"
   ]
  },
  {
   "cell_type": "markdown",
   "metadata": {},
   "source": [
    "## Problem 2 (problem taken from Jose Portilla from Pierian Data)\n",
    "You are driving a little too fast, and a police officer stops you. Write a function to return one of 3 possible results: \"No ticket\", \"Small ticket\", or \"Big Ticket\". If your speed is 60 mph or less, the result is \"No Ticket\". If speed is between 61 and 80 mph inclusive, the result is \"Small Ticket\". If speed is 81 mph or more, the result is \"Big Ticket\". Unless it is your birthday (encoded as a boolean value in the parameters of the function) -- on your birthday, your speed can be 5 mph higher in all cases."
   ]
  },
  {
   "cell_type": "code",
   "execution_count": 8,
   "metadata": {},
   "outputs": [
    {
     "name": "stdout",
     "output_type": "stream",
     "text": [
      "No Ticket\n",
      "Small Ticket\n",
      "No Ticket\n"
     ]
    }
   ],
   "source": [
    "def ticket(speed: int,birthday: bool = False):\n",
    "    if speed <= 60 + birthday*5:\n",
    "        print(\"No Ticket\")\n",
    "    elif (speed >= 61 + birthday*5) and (speed <= 80 + birthday*5):\n",
    "        print(\"Small Ticket\")\n",
    "    elif speed >= 81 + birthday*5:\n",
    "        print(\"Big Ticket\")\n",
    "\n",
    "ticket(60)\n",
    "ticket(62, False)\n",
    "ticket(62, True)\n"
   ]
  },
  {
   "cell_type": "code",
   "execution_count": null,
   "metadata": {},
   "outputs": [],
   "source": []
  }
 ],
 "metadata": {
  "kernelspec": {
   "display_name": "Python 3",
   "language": "python",
   "name": "python3"
  },
  "language_info": {
   "codemirror_mode": {
    "name": "ipython",
    "version": 3
   },
   "file_extension": ".py",
   "mimetype": "text/x-python",
   "name": "python",
   "nbconvert_exporter": "python",
   "pygments_lexer": "ipython3",
   "version": "3.7.4"
  }
 },
 "nbformat": 4,
 "nbformat_minor": 4
}
