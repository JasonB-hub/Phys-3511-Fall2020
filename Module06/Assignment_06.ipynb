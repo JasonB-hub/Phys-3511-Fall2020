{
 "cells": [
  {
   "cell_type": "markdown",
   "metadata": {},
   "source": [
    "# Assignment 06: Due 10/12\n",
    "\n",
    "In this assignment we will look at some real data from the CMS experiment at the LHC. The LHC makes a lot of its data publically available here: http://opendata.cern.ch. The information about the data set we will be working with at can be found here: http://opendata.cern.ch/record/545"
   ]
  },
  {
   "cell_type": "markdown",
   "metadata": {},
   "source": [
    "## Imports \n",
    "\n",
    "For this assignemnt you will need the following imports"
   ]
  },
  {
   "cell_type": "code",
   "execution_count": 1,
   "metadata": {},
   "outputs": [],
   "source": [
    "import pandas as pd\n",
    "import numpy as np\n",
    "import matplotlib.pyplot as plt\n",
    "from scipy import optimize\n",
    "from scipy.optimize import curve_fit #simpliest scipy fitting method\n",
    "%matplotlib notebook"
   ]
  },
  {
   "cell_type": "markdown",
   "metadata": {},
   "source": [
    "# Problem 1\n",
    "\n",
    "Create a Pandas DataFrame object from the data file *Zee_Run2011A.csv*, located in the *data* dircetroy, and use the *info* function to list the information from the DataFrame."
   ]
  },
  {
   "cell_type": "code",
   "execution_count": null,
   "metadata": {},
   "outputs": [],
   "source": []
  },
  {
   "cell_type": "markdown",
   "metadata": {},
   "source": [
    "# Problem 2\n",
    "\n",
    "Create a new DataFrame column, which lists the value of the reconstructed invariant mass, $m_{inv}$, from the $Z\\rightarrow ee$ decay. The invariant mass is given by\n",
    "\n",
    "$m_{inv} = \\sqrt{2 p_{T1} p_{T2} \\left(cosh\\left(\\eta_1 - \\eta_2\\right) - cos\\left(\\phi_1 -\\phi_2\\right) \\right)}$\n",
    "\n",
    "Make a histogram of the invariant mass."
   ]
  },
  {
   "cell_type": "code",
   "execution_count": null,
   "metadata": {},
   "outputs": [],
   "source": []
  },
  {
   "cell_type": "markdown",
   "metadata": {},
   "source": [
    "# Problem 3\n",
    "\n",
    "The Relativistic Breit-Wigner distribution is expected to describe the , which is given as\n",
    "\n",
    "Wikepedia: https://en.wikipedia.org/wiki/Relativistic_Breit%E2%80%93Wigner_distribution\n",
    "\n",
    "$f(E) = \\frac{k}{(E^2 -M^2)^2 + M^2\\Gamma^2}$, where\n",
    "\n",
    " * $\\gamma$ = $\\sqrt{M^2(M^2+\\Gamma^2)}$\n",
    " * $k = \\frac{2\\sqrt{2}M\\Gamma\\gamma}{\\pi\\sqrt{M^2+\\gamma}}$\n",
    " \n",
    " Where $E$ is the energy, $M$ is the mass value where the function will peak. \n",
    " Fit the invariant mass distribution with the function:\n",
    " \n",
    " $aE + b + cf(E)$,\n",
    " \n",
    " where $a, b, $ and $c$ are fit parameters to be deterimined by your fit that describe a linear background, and $f(E)$ is the Relativistic Breit-Wigner function described above. To do this you should make a function that takes as agruments: $\\Gamma, M, a, b, c$. Where $\\Gamma$ and $M$ are contained in the Breit-Wigner function ($f(E)$). Our fit will determine the values $\\Gamma, M, a, b, c$. The value of $M = m_{inv}$ and should be near where the distribution peaks.   \n",
    " \n",
    " Fit the distribution and calculate the reduced $\\chi^2$. You can use either the *curve_fit* function form Scipy or the MC fitting approach.\n",
    " \n",
    " What is your best invariant mass value according to your fit? How does this compare to the accepted value of the $Z$ boson mass (you can look it up on Wikipedia)?"
   ]
  },
  {
   "cell_type": "code",
   "execution_count": null,
   "metadata": {},
   "outputs": [],
   "source": []
  },
  {
   "cell_type": "markdown",
   "metadata": {},
   "source": [
    "# Problem 4\n",
    "\n",
    "On the same graph, make histograms of the $\\eta_1$ and $\\eta_2$ distributions. Be sure to include a legend so the two distributions can be distinquised."
   ]
  },
  {
   "cell_type": "code",
   "execution_count": null,
   "metadata": {},
   "outputs": [],
   "source": []
  },
  {
   "cell_type": "markdown",
   "metadata": {},
   "source": [
    "# Problem 5\n",
    "\n",
    "From the distribution above, we clearly see two distinct distributions in the histogram. We can explain this due to the decay being detected in two different detectors, the electromagnetic barrel calorimeter (EB) and the endcap electromagnetic calorimeter (EE). This distinction is made in the column labeled *type1* and *type2*, which tells us which detector particle 1 and particle 2 are detected in. \n",
    "\n",
    "Create two DataFrames *barrel* and *endcap*, where *barrel* keeps all of the information in the original DataFrame where both particles were detected in the EB, and *endcap* keeps all of the information in the original DataFrame where both particles were detected in the EE.\n",
    "\n",
    "Make two sub plots where in sub plot one you histogram the $\\eta1$ distribution for the particles in the EB and EE. Then in sub plot two histogram the $\\eta2$ distribution for particles detected in the EE and EB. Be sure to include a legend that distiquishes EB from EE events.\n",
    "\n",
    "Based on the information above, does our assumption that the $\\eta$ distribution looks the way it does is because of the two different detectors make sense? Based on your histograms, what is the rough $\\eta$ ranges covered by the EB and EE detectors?"
   ]
  },
  {
   "cell_type": "code",
   "execution_count": null,
   "metadata": {},
   "outputs": [],
   "source": []
  },
  {
   "cell_type": "markdown",
   "metadata": {},
   "source": [
    "# Problem 6\n",
    "\n",
    "With particles being detected in two different detectors, the resolution of the detectors could differ. This could reslt in measureing the boson mass better in one detector than the other.\n",
    "\n",
    "Using your *barrel* and *endcap* DataFrames from above, on the same graph make a histogram of the invariant mass measured in the barrel and endcap detectors.  \n",
    "\n",
    "Use the *std* function to get the standard deviation of the two invariant mass distributions. The standard deviation is reflective of how narrow our mass peak is. Which detector gives the better resolution and hence the narrower invariant mass distribution? Does your histogram support the same conclusion?"
   ]
  },
  {
   "cell_type": "code",
   "execution_count": null,
   "metadata": {},
   "outputs": [],
   "source": []
  },
  {
   "cell_type": "markdown",
   "metadata": {},
   "source": [
    "# Problem 7\n",
    "From your DataFrame (from Problem 2), drop all columns except for pt1, eta1, phi1, pt2, eta2, phi2, and M. \n",
    "Using this DataFrame, use the Pandas *corr* function to produce a correlataion table. What quantites have the strongest correlation (that is not 1)?"
   ]
  },
  {
   "cell_type": "code",
   "execution_count": null,
   "metadata": {},
   "outputs": [],
   "source": []
  }
 ],
 "metadata": {
  "kernelspec": {
   "display_name": "Python 3",
   "language": "python",
   "name": "python3"
  },
  "language_info": {
   "codemirror_mode": {
    "name": "ipython",
    "version": 3
   },
   "file_extension": ".py",
   "mimetype": "text/x-python",
   "name": "python",
   "nbconvert_exporter": "python",
   "pygments_lexer": "ipython3",
   "version": "3.7.6"
  }
 },
 "nbformat": 4,
 "nbformat_minor": 4
}
