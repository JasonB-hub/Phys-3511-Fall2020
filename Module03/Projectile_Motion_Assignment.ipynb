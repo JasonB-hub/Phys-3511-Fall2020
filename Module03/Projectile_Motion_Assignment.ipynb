{
 "cells": [
  {
   "cell_type": "markdown",
   "metadata": {},
   "source": [
    "# Projectile Motion Assignment: Due 9/21\n",
    "\n",
    "## 2D Projectile Motion with Quadratic Drag \n",
    "\n",
    "Quadratic drag term is given by $\\vec{f}_{drag} = -cv\\vec{v}$. This leads to equations of motion in the horizontal ($x$) and vertical ($y$) directions given by \n",
    "\n",
    "* $m v_{x}' = -\\left(c\\sqrt{v^2_x +v^2_y}\\right)v_x$\n",
    "\n",
    "* $m v_{y}' = - mg - \\left(c\\sqrt{v^2x + v^2_y}) \\right)v_y$\n",
    "\n",
    "* $x' = v_x$\n",
    "\n",
    "* $y' = v_y$\n",
    "\n",
    ",where $'$ is a time derivative."
   ]
  },
  {
   "cell_type": "markdown",
   "metadata": {},
   "source": [
    "## Problem\n",
    "\n",
    "To get an accurate trajectory for a projectile one must often take account of several complications. For example, if a projectile goes very high then we have to allow for the reduction in air resistance as atmospheric density decreases. To illustrate this, consider an iron cannonball (diameter, $D = 15\\;cm$, density $\\rho = 7.8\\;g/cm^3$) that is fired with initial velocity $300 m/s$ at 50 degrees above the horizontal. The drag force is approximately quadratic, but since the drag is proportional to the atmospheric density and the density falls off exponentially with height, the drag force is $f = c(y) v^2$ where $c(y) = \\gamma D^2 exp(-y/\\lambda)$ with $\\gamma$ given as $0.25\\;N\\cdot s^2/m^4$ and $\\lambda = 10,000\\;m$. "
   ]
  },
  {
   "cell_type": "markdown",
   "metadata": {},
   "source": [
    "# Part a)\n",
    "\n",
    "Ignoring air resistance completely, write down the equations of motion for the cannonball (use the markup feature in Jupyter notbook and latex (https://en.wikibooks.org/wiki/LaTeX/Mathematics)) "
   ]
  },
  {
   "cell_type": "markdown",
   "metadata": {},
   "source": [
    "* $m v_{x}' = 0$\n",
    "\n",
    "* $m v_{y}' = - mg$\n",
    "\n",
    "* $x' = v_x$\n",
    "\n",
    "* $y' = v_y$"
   ]
  },
  {
   "cell_type": "markdown",
   "metadata": {},
   "source": [
    "Code the equations into a function "
   ]
  },
  {
   "cell_type": "code",
   "execution_count": 2,
   "metadata": {},
   "outputs": [],
   "source": [
    "import numpy as np\n",
    "\n",
    "#define projectile motion function in vaccum\n",
    "def proj_vac(x: np.array, y: np.array, m: float, c = lambda y: 0):\n",
    "    '''x is the initial position and velocity in the x-direction (Numpy array)\n",
    "    y is the initial position and velocity in the y-direction (Numpy array)\n",
    "    m is the mass of the projectile (Float)\n",
    "    c is the air resistance function. Defaults to c(y) = 0\n",
    "    Returns velocity and acceleration in both the x and y directions'''\n",
    "    r = -c(y[0]) * np.sqrt(x[1]**2 + y[1]**2)\n",
    "    if m == 0:\n",
    "        raise ValueError('Mass (m) cannot equal 0.')\n",
    "    return x[1], (r*x[1]) / m, y[1], -g + ((r*y[1]) / m)\n"
   ]
  },
  {
   "cell_type": "markdown",
   "metadata": {},
   "source": [
    "Using Scipy (*RK4(5)* method) solve numerically $x(t)$ and $y(t)$ for $0 \\le t \\le 3.5\\;s$"
   ]
  },
  {
   "cell_type": "code",
   "execution_count": null,
   "metadata": {},
   "outputs": [],
   "source": [
    "#code"
   ]
  },
  {
   "cell_type": "markdown",
   "metadata": {},
   "source": [
    "Plot the ball's trajectory (vertical vs. horizontal positions) and find it's horizontal range"
   ]
  },
  {
   "cell_type": "code",
   "execution_count": 2,
   "metadata": {},
   "outputs": [],
   "source": [
    "#codes"
   ]
  },
  {
   "cell_type": "markdown",
   "metadata": {},
   "source": [
    "# Part b)\n",
    "\n",
    "Write your own Runge-Kutta order 4 function and use it to solve Part a) [Meaning do not use Scipy for this part]."
   ]
  },
  {
   "cell_type": "code",
   "execution_count": 3,
   "metadata": {},
   "outputs": [],
   "source": [
    "def rungekutta_4(f,t,x0, args=()):\n",
    "    n = len(t)\n",
    "    x = np.zeros( ( n, len(x0) ) )\n",
    "    x[0] = x0 #set inital condition \n",
    "    for i in range (0,n-1):\n",
    "        dt = t[i+1]-t[i]\n",
    "        k1 = f(t[i], x[i], *args)\n",
    "        k2 = f(t[i] + dt/2.0, x[i] + dt/2.0 * k1, *args)\n",
    "        k3 = f(t[i] + dt/2.0, x[i] + dt/2.0 * k2, *args)\n",
    "        k4 = f(t[i] + dt, x[i] + dt * k3, *args)\n",
    "        x[i+1] = x[i] + (dt/6)*(k1 + 2*k2 + 2*k3 + k4)\n",
    "    return x"
   ]
  },
  {
   "cell_type": "markdown",
   "metadata": {},
   "source": [
    "How does your Runge-Kutta 4th order evaluation compare to Scipy's *RK4(5)* method?"
   ]
  },
  {
   "cell_type": "markdown",
   "metadata": {},
   "source": [
    "# Part c)\n",
    "\n",
    "Now include air resistance, but ignore the variation of atmospheric pressure [that is  treat $c(y)$ as a constant  that does not change with position, where $c = \\gamma D^2$].\n",
    "\n",
    "Write down the equations of motion (use the markup feature in Jupyter notbook and latex)"
   ]
  },
  {
   "cell_type": "markdown",
   "metadata": {},
   "source": [
    "* $m v_{x}' = -\\left(c\\sqrt{v^2_x +v^2_y}\\right)v_x$\n",
    "\n",
    "* $m v_{y}' = - mg - \\left(c\\sqrt{v^2x + v^2_y}) \\right)v_y$\n",
    "\n",
    "* $x' = v_x$\n",
    "\n",
    "* $y' = v_y$"
   ]
  },
  {
   "cell_type": "markdown",
   "metadata": {},
   "source": [
    "Code the equations into a function"
   ]
  },
  {
   "cell_type": "code",
   "execution_count": 3,
   "metadata": {},
   "outputs": [],
   "source": [
    "#The function from part a allows for air resistance functions but defaults to none so I don't write a new one here\n",
    "#I just plug in c = lambda y : 0.25 * (.15)**2"
   ]
  },
  {
   "cell_type": "markdown",
   "metadata": {},
   "source": [
    "Use Scipy (*RK4(5)* method) to solve numerically $x(t)$ and $y(t)$ for $0\\le t \\le 3.5\\;s$"
   ]
  },
  {
   "cell_type": "code",
   "execution_count": 4,
   "metadata": {},
   "outputs": [],
   "source": [
    "#codes"
   ]
  },
  {
   "cell_type": "markdown",
   "metadata": {},
   "source": [
    "Plot the ball's trajecory and find it's horizontal range"
   ]
  },
  {
   "cell_type": "code",
   "execution_count": 5,
   "metadata": {},
   "outputs": [],
   "source": [
    "#codes"
   ]
  },
  {
   "cell_type": "markdown",
   "metadata": {},
   "source": [
    "# Part d)\n",
    "\n",
    "Now include the drag term with the atmospheric variation included [meaning $c(y) = \\gamma D^2exp(-y/\\lambda)$]\n",
    "\n",
    "Write down the equations of motion (use the markup feature in Jupyter notbook and latex)"
   ]
  },
  {
   "cell_type": "markdown",
   "metadata": {},
   "source": [
    "* $m v_{x}' = -\\left(c\\sqrt{v^2_x +v^2_y}\\right)v_x$\n",
    "\n",
    "* $m v_{y}' = - mg - \\left(c\\sqrt{v^2x + v^2_y}) \\right)v_y$\n",
    "\n",
    "* $x' = v_x$\n",
    "\n",
    "* $y' = v_y$"
   ]
  },
  {
   "cell_type": "markdown",
   "metadata": {},
   "source": [
    "Code the equations into a function"
   ]
  },
  {
   "cell_type": "code",
   "execution_count": null,
   "metadata": {},
   "outputs": [],
   "source": [
    "#The function from part a allows for air resistance functions but defaults to none so I don't write a new one here\n",
    "#I just plug in c = lambda y : 0.25 * (.15)**2 * np.exp(-y/10000)"
   ]
  },
  {
   "cell_type": "markdown",
   "metadata": {},
   "source": [
    "Use Scipy (*RK4(5)* method) to solve numerically $x(t)$ and $y(t)$ for $0\\le t \\le 3.5\\;s$"
   ]
  },
  {
   "cell_type": "code",
   "execution_count": null,
   "metadata": {},
   "outputs": [],
   "source": [
    "#codes"
   ]
  },
  {
   "cell_type": "markdown",
   "metadata": {
    "slideshow": {
     "slide_type": "slide"
    }
   },
   "source": [
    "Plot the ball's trajectory and find it's horizontal range"
   ]
  },
  {
   "cell_type": "code",
   "execution_count": 6,
   "metadata": {},
   "outputs": [],
   "source": [
    "#codes"
   ]
  },
  {
   "cell_type": "markdown",
   "metadata": {},
   "source": [
    "# Part e)\n",
    "\n",
    "Plot the trajectories from parts a), c), and d) on the same plot."
   ]
  },
  {
   "cell_type": "code",
   "execution_count": 7,
   "metadata": {},
   "outputs": [],
   "source": [
    "#codes"
   ]
  },
  {
   "cell_type": "markdown",
   "metadata": {},
   "source": [
    "Which impacts the motion more: turning on air resistance (i.e with $c(0)$) or turning on the variation with atmosphere (i.e. $c(y)$)?"
   ]
  },
  {
   "cell_type": "markdown",
   "metadata": {},
   "source": []
  }
 ],
 "metadata": {
  "kernelspec": {
   "display_name": "Python 3",
   "language": "python",
   "name": "python3"
  },
  "language_info": {
   "codemirror_mode": {
    "name": "ipython",
    "version": 3
   },
   "file_extension": ".py",
   "mimetype": "text/x-python",
   "name": "python",
   "nbconvert_exporter": "python",
   "pygments_lexer": "ipython3",
   "version": "3.7.4"
  }
 },
 "nbformat": 4,
 "nbformat_minor": 4
}
